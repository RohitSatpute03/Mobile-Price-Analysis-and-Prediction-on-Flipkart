{
  "cells": [
    {
      "cell_type": "code",
      "execution_count": 1,
      "metadata": {
        "id": "0yd1lfOztSAL"
      },
      "outputs": [],
      "source": [
        "import pandas as pd\n",
        "import numpy as np\n",
        "import seaborn as sns\n",
        "import matplotlib.pyplot as plt"
      ]
    },
    {
      "cell_type": "code",
      "execution_count": 2,
      "metadata": {
        "colab": {
          "base_uri": "https://localhost:8080/",
          "height": 206
        },
        "id": "civ3BPTptR8y",
        "outputId": "3f018673-dd54-45ff-86e0-2e1be5a3347e"
      },
      "outputs": [
        {
          "data": {
            "text/html": [
              "<div>\n",
              "<style scoped>\n",
              "    .dataframe tbody tr th:only-of-type {\n",
              "        vertical-align: middle;\n",
              "    }\n",
              "\n",
              "    .dataframe tbody tr th {\n",
              "        vertical-align: top;\n",
              "    }\n",
              "\n",
              "    .dataframe thead th {\n",
              "        text-align: right;\n",
              "    }\n",
              "</style>\n",
              "<table border=\"1\" class=\"dataframe\">\n",
              "  <thead>\n",
              "    <tr style=\"text-align: right;\">\n",
              "      <th></th>\n",
              "      <th>Unnamed: 0</th>\n",
              "      <th>brand</th>\n",
              "      <th>model</th>\n",
              "      <th>ram</th>\n",
              "      <th>storage</th>\n",
              "      <th>display size</th>\n",
              "      <th>display type</th>\n",
              "      <th>rear camera</th>\n",
              "      <th>front camera</th>\n",
              "      <th>price</th>\n",
              "    </tr>\n",
              "  </thead>\n",
              "  <tbody>\n",
              "    <tr>\n",
              "      <th>0</th>\n",
              "      <td>0</td>\n",
              "      <td>realme</td>\n",
              "      <td>c53</td>\n",
              "      <td>6</td>\n",
              "      <td>64</td>\n",
              "      <td>6.74</td>\n",
              "      <td>HD</td>\n",
              "      <td>108</td>\n",
              "      <td>8</td>\n",
              "      <td>10999</td>\n",
              "    </tr>\n",
              "    <tr>\n",
              "      <th>1</th>\n",
              "      <td>2</td>\n",
              "      <td>vivo</td>\n",
              "      <td>t2x 5g</td>\n",
              "      <td>8</td>\n",
              "      <td>128</td>\n",
              "      <td>6.58</td>\n",
              "      <td>Full HD</td>\n",
              "      <td>50</td>\n",
              "      <td>8</td>\n",
              "      <td>15999</td>\n",
              "    </tr>\n",
              "    <tr>\n",
              "      <th>2</th>\n",
              "      <td>3</td>\n",
              "      <td>vivo</td>\n",
              "      <td>t2x 5g</td>\n",
              "      <td>6</td>\n",
              "      <td>128</td>\n",
              "      <td>6.58</td>\n",
              "      <td>Full HD</td>\n",
              "      <td>50</td>\n",
              "      <td>8</td>\n",
              "      <td>13999</td>\n",
              "    </tr>\n",
              "    <tr>\n",
              "      <th>3</th>\n",
              "      <td>7</td>\n",
              "      <td>vivo</td>\n",
              "      <td>t2x 5g</td>\n",
              "      <td>4</td>\n",
              "      <td>128</td>\n",
              "      <td>6.58</td>\n",
              "      <td>Full HD</td>\n",
              "      <td>50</td>\n",
              "      <td>8</td>\n",
              "      <td>12999</td>\n",
              "    </tr>\n",
              "    <tr>\n",
              "      <th>4</th>\n",
              "      <td>10</td>\n",
              "      <td>realme</td>\n",
              "      <td>11x 5g</td>\n",
              "      <td>6</td>\n",
              "      <td>128</td>\n",
              "      <td>6.72</td>\n",
              "      <td>Full HD</td>\n",
              "      <td>64</td>\n",
              "      <td>8</td>\n",
              "      <td>14999</td>\n",
              "    </tr>\n",
              "  </tbody>\n",
              "</table>\n",
              "</div>"
            ],
            "text/plain": [
              "   Unnamed: 0   brand    model  ram  storage  display size display type  \\\n",
              "0           0  realme     c53     6       64          6.74           HD   \n",
              "1           2    vivo  t2x 5g     8      128          6.58      Full HD   \n",
              "2           3    vivo  t2x 5g     6      128          6.58      Full HD   \n",
              "3           7    vivo  t2x 5g     4      128          6.58      Full HD   \n",
              "4          10  realme  11x 5g     6      128          6.72      Full HD   \n",
              "\n",
              "   rear camera  front camera  price  \n",
              "0          108             8  10999  \n",
              "1           50             8  15999  \n",
              "2           50             8  13999  \n",
              "3           50             8  12999  \n",
              "4           64             8  14999  "
            ]
          },
          "execution_count": 2,
          "metadata": {},
          "output_type": "execute_result"
        }
      ],
      "source": [
        "data = pd.read_csv('flip_data_cleaned.csv')\n",
        "data.head()"
      ]
    },
    {
      "cell_type": "code",
      "execution_count": 3,
      "metadata": {
        "colab": {
          "base_uri": "https://localhost:8080/",
          "height": 206
        },
        "id": "ynJco95ytR3w",
        "outputId": "4c0aee3e-1b1b-49d9-fe7f-34174c7a20af"
      },
      "outputs": [
        {
          "data": {
            "text/html": [
              "<div>\n",
              "<style scoped>\n",
              "    .dataframe tbody tr th:only-of-type {\n",
              "        vertical-align: middle;\n",
              "    }\n",
              "\n",
              "    .dataframe tbody tr th {\n",
              "        vertical-align: top;\n",
              "    }\n",
              "\n",
              "    .dataframe thead th {\n",
              "        text-align: right;\n",
              "    }\n",
              "</style>\n",
              "<table border=\"1\" class=\"dataframe\">\n",
              "  <thead>\n",
              "    <tr style=\"text-align: right;\">\n",
              "      <th></th>\n",
              "      <th>brand</th>\n",
              "      <th>ram</th>\n",
              "      <th>storage</th>\n",
              "      <th>display size</th>\n",
              "      <th>display type</th>\n",
              "      <th>rear camera</th>\n",
              "      <th>front camera</th>\n",
              "      <th>price</th>\n",
              "    </tr>\n",
              "  </thead>\n",
              "  <tbody>\n",
              "    <tr>\n",
              "      <th>0</th>\n",
              "      <td>realme</td>\n",
              "      <td>6</td>\n",
              "      <td>64</td>\n",
              "      <td>6.74</td>\n",
              "      <td>HD</td>\n",
              "      <td>108</td>\n",
              "      <td>8</td>\n",
              "      <td>10999</td>\n",
              "    </tr>\n",
              "    <tr>\n",
              "      <th>1</th>\n",
              "      <td>vivo</td>\n",
              "      <td>8</td>\n",
              "      <td>128</td>\n",
              "      <td>6.58</td>\n",
              "      <td>Full HD</td>\n",
              "      <td>50</td>\n",
              "      <td>8</td>\n",
              "      <td>15999</td>\n",
              "    </tr>\n",
              "    <tr>\n",
              "      <th>2</th>\n",
              "      <td>vivo</td>\n",
              "      <td>6</td>\n",
              "      <td>128</td>\n",
              "      <td>6.58</td>\n",
              "      <td>Full HD</td>\n",
              "      <td>50</td>\n",
              "      <td>8</td>\n",
              "      <td>13999</td>\n",
              "    </tr>\n",
              "    <tr>\n",
              "      <th>3</th>\n",
              "      <td>vivo</td>\n",
              "      <td>4</td>\n",
              "      <td>128</td>\n",
              "      <td>6.58</td>\n",
              "      <td>Full HD</td>\n",
              "      <td>50</td>\n",
              "      <td>8</td>\n",
              "      <td>12999</td>\n",
              "    </tr>\n",
              "    <tr>\n",
              "      <th>4</th>\n",
              "      <td>realme</td>\n",
              "      <td>6</td>\n",
              "      <td>128</td>\n",
              "      <td>6.72</td>\n",
              "      <td>Full HD</td>\n",
              "      <td>64</td>\n",
              "      <td>8</td>\n",
              "      <td>14999</td>\n",
              "    </tr>\n",
              "  </tbody>\n",
              "</table>\n",
              "</div>"
            ],
            "text/plain": [
              "    brand  ram  storage  display size display type  rear camera  front camera  \\\n",
              "0  realme    6       64          6.74           HD          108             8   \n",
              "1    vivo    8      128          6.58      Full HD           50             8   \n",
              "2    vivo    6      128          6.58      Full HD           50             8   \n",
              "3    vivo    4      128          6.58      Full HD           50             8   \n",
              "4  realme    6      128          6.72      Full HD           64             8   \n",
              "\n",
              "   price  \n",
              "0  10999  \n",
              "1  15999  \n",
              "2  13999  \n",
              "3  12999  \n",
              "4  14999  "
            ]
          },
          "execution_count": 3,
          "metadata": {},
          "output_type": "execute_result"
        }
      ],
      "source": [
        "data.drop(['Unnamed: 0', 'model'],axis=1, inplace=True)\n",
        "data.head()"
      ]
    },
    {
      "cell_type": "code",
      "execution_count": 4,
      "metadata": {
        "colab": {
          "base_uri": "https://localhost:8080/"
        },
        "id": "hQHQR3xVtR1D",
        "outputId": "f08db28f-0022-404c-b489-c37be64a2037"
      },
      "outputs": [
        {
          "data": {
            "text/plain": [
              "(598, 8)"
            ]
          },
          "execution_count": 4,
          "metadata": {},
          "output_type": "execute_result"
        }
      ],
      "source": [
        "data.shape"
      ]
    },
    {
      "cell_type": "code",
      "execution_count": 5,
      "metadata": {
        "id": "bffFjC_PgDV6"
      },
      "outputs": [],
      "source": [
        "from sklearn.preprocessing import LabelEncoder"
      ]
    },
    {
      "cell_type": "code",
      "execution_count": 6,
      "metadata": {
        "id": "-qJUQ2Aae0dm"
      },
      "outputs": [],
      "source": [
        "le = LabelEncoder()\n",
        "data['brand'] = le.fit_transform(data['brand'])\n",
        "data['display type'] = le.fit_transform(data['display type'])"
      ]
    },
    {
      "cell_type": "code",
      "execution_count": 7,
      "metadata": {
        "colab": {
          "base_uri": "https://localhost:8080/",
          "height": 206
        },
        "id": "jJwGvbLZe0aY",
        "outputId": "b104db1a-3f6c-4da0-ffd7-bfc263aa568d"
      },
      "outputs": [
        {
          "data": {
            "text/html": [
              "<div>\n",
              "<style scoped>\n",
              "    .dataframe tbody tr th:only-of-type {\n",
              "        vertical-align: middle;\n",
              "    }\n",
              "\n",
              "    .dataframe tbody tr th {\n",
              "        vertical-align: top;\n",
              "    }\n",
              "\n",
              "    .dataframe thead th {\n",
              "        text-align: right;\n",
              "    }\n",
              "</style>\n",
              "<table border=\"1\" class=\"dataframe\">\n",
              "  <thead>\n",
              "    <tr style=\"text-align: right;\">\n",
              "      <th></th>\n",
              "      <th>brand</th>\n",
              "      <th>ram</th>\n",
              "      <th>storage</th>\n",
              "      <th>display size</th>\n",
              "      <th>display type</th>\n",
              "      <th>rear camera</th>\n",
              "      <th>front camera</th>\n",
              "      <th>price</th>\n",
              "    </tr>\n",
              "  </thead>\n",
              "  <tbody>\n",
              "    <tr>\n",
              "      <th>0</th>\n",
              "      <td>8</td>\n",
              "      <td>6</td>\n",
              "      <td>64</td>\n",
              "      <td>6.74</td>\n",
              "      <td>2</td>\n",
              "      <td>108</td>\n",
              "      <td>8</td>\n",
              "      <td>10999</td>\n",
              "    </tr>\n",
              "    <tr>\n",
              "      <th>1</th>\n",
              "      <td>11</td>\n",
              "      <td>8</td>\n",
              "      <td>128</td>\n",
              "      <td>6.58</td>\n",
              "      <td>1</td>\n",
              "      <td>50</td>\n",
              "      <td>8</td>\n",
              "      <td>15999</td>\n",
              "    </tr>\n",
              "    <tr>\n",
              "      <th>2</th>\n",
              "      <td>11</td>\n",
              "      <td>6</td>\n",
              "      <td>128</td>\n",
              "      <td>6.58</td>\n",
              "      <td>1</td>\n",
              "      <td>50</td>\n",
              "      <td>8</td>\n",
              "      <td>13999</td>\n",
              "    </tr>\n",
              "    <tr>\n",
              "      <th>3</th>\n",
              "      <td>11</td>\n",
              "      <td>4</td>\n",
              "      <td>128</td>\n",
              "      <td>6.58</td>\n",
              "      <td>1</td>\n",
              "      <td>50</td>\n",
              "      <td>8</td>\n",
              "      <td>12999</td>\n",
              "    </tr>\n",
              "    <tr>\n",
              "      <th>4</th>\n",
              "      <td>8</td>\n",
              "      <td>6</td>\n",
              "      <td>128</td>\n",
              "      <td>6.72</td>\n",
              "      <td>1</td>\n",
              "      <td>64</td>\n",
              "      <td>8</td>\n",
              "      <td>14999</td>\n",
              "    </tr>\n",
              "  </tbody>\n",
              "</table>\n",
              "</div>"
            ],
            "text/plain": [
              "   brand  ram  storage  display size  display type  rear camera  front camera  \\\n",
              "0      8    6       64          6.74             2          108             8   \n",
              "1     11    8      128          6.58             1           50             8   \n",
              "2     11    6      128          6.58             1           50             8   \n",
              "3     11    4      128          6.58             1           50             8   \n",
              "4      8    6      128          6.72             1           64             8   \n",
              "\n",
              "   price  \n",
              "0  10999  \n",
              "1  15999  \n",
              "2  13999  \n",
              "3  12999  \n",
              "4  14999  "
            ]
          },
          "execution_count": 7,
          "metadata": {},
          "output_type": "execute_result"
        }
      ],
      "source": [
        "data.head()"
      ]
    },
    {
      "cell_type": "code",
      "execution_count": 8,
      "metadata": {
        "id": "mdkTa6E8eIRf"
      },
      "outputs": [],
      "source": [
        "y = data['price']\n",
        "x = data.drop(['price'], axis=1)"
      ]
    },
    {
      "cell_type": "code",
      "execution_count": 9,
      "metadata": {
        "id": "tOD_kS9csxXg"
      },
      "outputs": [],
      "source": [
        "from sklearn.tree import DecisionTreeRegressor\n",
        "from sklearn.metrics import mean_squared_error, r2_score\n",
        "from sklearn.model_selection import train_test_split"
      ]
    },
    {
      "cell_type": "code",
      "execution_count": 10,
      "metadata": {
        "id": "6MqjiYxwdqwy"
      },
      "outputs": [],
      "source": [
        "X_train, x_test, Y_train, y_test = train_test_split(x,y, test_size=0.16)"
      ]
    },
    {
      "cell_type": "code",
      "execution_count": 11,
      "metadata": {
        "colab": {
          "base_uri": "https://localhost:8080/"
        },
        "id": "vbzDPJfxeg9a",
        "outputId": "56049b9d-df28-4b00-afc7-c813b28c341d"
      },
      "outputs": [
        {
          "name": "stdout",
          "output_type": "stream",
          "text": [
            "[17749.  18990.  21999.  21888.  28144.5]\n"
          ]
        }
      ],
      "source": [
        "model = DecisionTreeRegressor()\n",
        "model.fit(X_train, Y_train)\n",
        "res = model.predict(x_test)\n",
        "print(res[:5])"
      ]
    },
    {
      "cell_type": "code",
      "execution_count": 12,
      "metadata": {
        "colab": {
          "base_uri": "https://localhost:8080/"
        },
        "id": "1HW5TMKoexkD",
        "outputId": "3c714f0d-65f8-4ecb-ecf7-a550c812f2c3"
      },
      "outputs": [
        {
          "name": "stdout",
          "output_type": "stream",
          "text": [
            "0.7053058260999141\n"
          ]
        }
      ],
      "source": [
        "print(r2_score(y_test, res))"
      ]
    },
    {
      "cell_type": "code",
      "execution_count": 13,
      "metadata": {
        "colab": {
          "base_uri": "https://localhost:8080/"
        },
        "id": "6VIH7Wuggtfe",
        "outputId": "1891e06c-405e-4267-f8a2-47aa13e88556"
      },
      "outputs": [
        {
          "data": {
            "text/plain": [
              "96"
            ]
          },
          "execution_count": 13,
          "metadata": {},
          "output_type": "execute_result"
        }
      ],
      "source": [
        "len(y_test)"
      ]
    },
    {
      "cell_type": "code",
      "execution_count": 14,
      "metadata": {
        "colab": {
          "base_uri": "https://localhost:8080/",
          "height": 449
        },
        "id": "4IXpIwfugxJC",
        "outputId": "728a1f35-f471-4554-dbe6-f035b025666d"
      },
      "outputs": [
        {
          "data": {
            "image/png": "[encoded data removed]",
            "text/plain": [
              "<Figure size 640x480 with 1 Axes>"
            ]
          },
          "metadata": {},
          "output_type": "display_data"
        }
      ],
      "source": [
        "fig = plt.figure()\n",
        "ax = fig.add_subplot(111)\n",
        "sns.regplot(x=y_test, y=res)\n",
        "plt.show()"
      ]
    },
    {
      "cell_type": "code",
      "execution_count": 15,
      "metadata": {
        "id": "Vxrne65BhHzS"
      },
      "outputs": [],
      "source": [
        "import xgboost as xgb\n"
      ]
    },
    {
      "cell_type": "code",
      "execution_count": 16,
      "metadata": {
        "colab": {
          "base_uri": "https://localhost:8080/"
        },
        "id": "IRo2yuZ3i4vk",
        "outputId": "0c03c09a-b795-49db-b359-6b02085767ae"
      },
      "outputs": [
        {
          "name": "stdout",
          "output_type": "stream",
          "text": [
            "[25427.746 22149.824 26584.473 17229.578 27932.86 ]\n"
          ]
        }
      ],
      "source": [
        "model2 = xgb.XGBRegressor()\n",
        "model2.fit(X_train, Y_train)\n",
        "res2 = model2.predict(x_test)\n",
        "print(res2[:5])"
      ]
    },
    {
      "cell_type": "code",
      "execution_count": 17,
      "metadata": {
        "colab": {
          "base_uri": "https://localhost:8080/"
        },
        "id": "c6Xyi2oHjTCl",
        "outputId": "296c19d0-71a8-49a8-88cf-3a867507309f"
      },
      "outputs": [
        {
          "name": "stdout",
          "output_type": "stream",
          "text": [
            "0.7311411755991899\n"
          ]
        }
      ],
      "source": [
        "print(r2_score(y_test, res2))"
      ]
    },
    {
      "cell_type": "code",
      "execution_count": 18,
      "metadata": {
        "colab": {
          "base_uri": "https://localhost:8080/",
          "height": 449
        },
        "id": "heAF-qDljFoY",
        "outputId": "04422085-27a4-4d16-8c41-63c36b1f70bf"
      },
      "outputs": [
        {
          "data": {
            "image/png": "[encoded data removed]",
            "text/plain": [
              "<Figure size 640x480 with 1 Axes>"
            ]
          },
          "metadata": {},
          "output_type": "display_data"
        }
      ],
      "source": [
        "fig1 = plt.figure()\n",
        "ax1 = fig1.add_subplot(111)\n",
        "sns.regplot(x=y_test, y=res2)\n",
        "plt.show()"
      ]
    },
    {
      "cell_type": "markdown",
      "metadata": {
        "id": "eDhvsF4E_8hj"
      },
      "source": [
        "We will try to compare different models and pick the best model using cross validation"
      ]
    },
    {
      "cell_type": "code",
      "execution_count": 19,
      "metadata": {
        "id": "yAp5ZzPQjOrV"
      },
      "outputs": [],
      "source": [
        "from sklearn.model_selection import GridSearchCV\n",
        "from sklearn.svm import SVC"
      ]
    },
    {
      "cell_type": "code",
      "execution_count": 20,
      "metadata": {
        "id": "1Z21Twfl-r1D"
      },
      "outputs": [],
      "source": [
        "params = {\n",
        "    'SVR' : {'model':SVC(), 'params':{'C':[3,5,7]}},\n",
        "    'XGBRegressor' : {'model': xgb.XGBRegressor(), 'params':{'n_estimators': [10, 20, 30, 50, 100, 1000], 'max_depth':[3, 5, 7]}},\n",
        "    'DecisionTreeRegressor': {'model':DecisionTreeRegressor(), 'params':{'max_depth': [2, 5, 10]}}\n",
        "}"
      ]
    },
    {
      "cell_type": "code",
      "execution_count": 21,
      "metadata": {
        "colab": {
          "base_uri": "https://localhost:8080/"
        },
        "id": "jGlKyXrN-rxg",
        "outputId": "4cd16818-099b-42da-f57d-58510cde7b15"
      },
      "outputs": [
        {
          "name": "stderr",
          "output_type": "stream",
          "text": [
            "/Library/Frameworks/Python.framework/Versions/3.11/lib/python3.11/site-packages/sklearn/model_selection/_split.py:737: UserWarning: The least populated class in y has only 1 members, which is less than n_splits=5.\n",
            "  warnings.warn(\n"
          ]
        }
      ],
      "source": [
        "gcv = []\n",
        "for i in params:\n",
        "  res = GridSearchCV(params[i]['model'], params[i]['params'], scoring='r2').fit(X_train, Y_train)\n",
        "  gcv.append({'model':i, 'best params':res.best_params_, 'best score':res.best_score_})"
      ]
    },
    {
      "cell_type": "code",
      "execution_count": 23,
      "metadata": {
        "colab": {
          "base_uri": "https://localhost:8080/",
          "height": 143
        },
        "id": "xfQSe8_C-rvL",
        "outputId": "6a3b23aa-559a-4e6b-fbd7-0f42805c9f42"
      },
      "outputs": [
        {
          "data": {
            "text/html": [
              "<div>\n",
              "<style scoped>\n",
              "    .dataframe tbody tr th:only-of-type {\n",
              "        vertical-align: middle;\n",
              "    }\n",
              "\n",
              "    .dataframe tbody tr th {\n",
              "        vertical-align: top;\n",
              "    }\n",
              "\n",
              "    .dataframe thead th {\n",
              "        text-align: right;\n",
              "    }\n",
              "</style>\n",
              "<table border=\"1\" class=\"dataframe\">\n",
              "  <thead>\n",
              "    <tr style=\"text-align: right;\">\n",
              "      <th></th>\n",
              "      <th>model</th>\n",
              "      <th>best params</th>\n",
              "      <th>best score</th>\n",
              "    </tr>\n",
              "  </thead>\n",
              "  <tbody>\n",
              "    <tr>\n",
              "      <th>0</th>\n",
              "      <td>SVR</td>\n",
              "      <td>{'C': 5}</td>\n",
              "      <td>0.262987</td>\n",
              "    </tr>\n",
              "    <tr>\n",
              "      <th>1</th>\n",
              "      <td>XGBRegressor</td>\n",
              "      <td>{'max_depth': 5, 'n_estimators': 50}</td>\n",
              "      <td>0.781458</td>\n",
              "    </tr>\n",
              "    <tr>\n",
              "      <th>2</th>\n",
              "      <td>DecisionTreeRegressor</td>\n",
              "      <td>{'max_depth': 10}</td>\n",
              "      <td>0.605730</td>\n",
              "    </tr>\n",
              "  </tbody>\n",
              "</table>\n",
              "</div>"
            ],
            "text/plain": [
              "                   model                           best params  best score\n",
              "0                    SVR                              {'C': 5}    0.262987\n",
              "1           XGBRegressor  {'max_depth': 5, 'n_estimators': 50}    0.781458\n",
              "2  DecisionTreeRegressor                     {'max_depth': 10}    0.605730"
            ]
          },
          "execution_count": 23,
          "metadata": {},
          "output_type": "execute_result"
        }
      ],
      "source": [
        "gcv_df = pd.DataFrame(gcv)\n",
        "gcv_df"
      ]
    },
    {
      "cell_type": "markdown",
      "metadata": {
        "id": "ssRWK9o-KPxk"
      },
      "source": [
        "As per the generated results, XGBRegressor is the best model that fits the data well."
      ]
    },
    {
      "cell_type": "code",
      "execution_count": 24,
      "metadata": {
        "colab": {
          "base_uri": "https://localhost:8080/"
        },
        "id": "mwMdv4l1pQau",
        "outputId": "e6fd4e8a-ff91-441c-be06-e4af13ebeda0"
      },
      "outputs": [
        {
          "name": "stdout",
          "output_type": "stream",
          "text": [
            "[20205.54  21901.895 21570.8   16700.715 26853.68 ]\n"
          ]
        }
      ],
      "source": [
        "final_model = xgb.XGBRegressor(n_estimators=100, max_depth=3)\n",
        "final_model.fit(X_train, Y_train)\n",
        "final_res = final_model.predict(x_test)\n",
        "print(final_res[:5])"
      ]
    },
    {
      "cell_type": "code",
      "execution_count": 25,
      "metadata": {
        "colab": {
          "base_uri": "https://localhost:8080/"
        },
        "id": "I5UqHIGlpnru",
        "outputId": "ccdb8737-5676-434d-b07e-53095a5fda66"
      },
      "outputs": [
        {
          "name": "stdout",
          "output_type": "stream",
          "text": [
            "0.8537238649304126\n"
          ]
        }
      ],
      "source": [
        "print(r2_score(y_test, final_res))"
      ]
    },
    {
      "cell_type": "code",
      "execution_count": 26,
      "metadata": {},
      "outputs": [],
      "source": [
        "import os\n",
        "\n",
        "# Replace with your desired directory path\n",
        "save_dir = '/Users/rohitsatpute/Documents/Final Projects/flipkart_mobile_price_prediction/'\n",
        "\n",
        "if not os.path.exists(save_dir):\n",
        "    os.makedirs(save_dir)\n"
      ]
    },
    {
      "cell_type": "code",
      "execution_count": 27,
      "metadata": {},
      "outputs": [],
      "source": [
        "import pickle"
      ]
    },
    {
      "cell_type": "code",
      "execution_count": 28,
      "metadata": {
        "id": "0YHqv9jFMeUW"
      },
      "outputs": [],
      "source": [
        "import pickle\n",
        "\n",
        "with open('/Users/rohitsatpute/Documents/Final Projects/flipkart_mobile_price_prediction/flip_model.pkl', 'wb') as files:\n",
        "    pickle.dump(final_model, files)\n"
      ]
    },
    {
      "cell_type": "code",
      "execution_count": null,
      "metadata": {
        "id": "EBxyl9ZvM0mD"
      },
      "outputs": [],
      "source": []
    }
  ],
  "metadata": {
    "colab": {
      "provenance": []
    },
    "kernelspec": {
      "display_name": "Python 3",
      "name": "python3"
    },
    "language_info": {
      "codemirror_mode": {
        "name": "ipython",
        "version": 3
      },
      "file_extension": ".py",
      "mimetype": "text/x-python",
      "name": "python",
      "nbconvert_exporter": "python",
      "pygments_lexer": "ipython3",
      "version": "3.11.4"
    }
  },
  "nbformat": 4,
  "nbformat_minor": 0
}
