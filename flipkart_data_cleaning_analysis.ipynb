{
  "cells": [
    {
      "cell_type": "code",
      "execution_count": 4,
      "metadata": {
        "id": "N8saTKl1ajMM"
      },
      "outputs": [],
      "source": [
        "import pandas as pd\n",
        "import numpy as np\n",
        "import seaborn as sns\n",
        "import re\n",
        "import matplotlib.pyplot as plt\n"
      ]
    },
    {
      "cell_type": "code",
      "execution_count": 5,
      "metadata": {
        "colab": {
          "base_uri": "https://localhost:8080/",
          "height": 206
        },
        "id": "r8uFGURZa0Gw",
        "outputId": "0a6572bf-e2d8-4a04-97cc-12806ea15463"
      },
      "outputs": [
        {
          "data": {
            "text/html": [
              "<div>\n",
              "<style scoped>\n",
              "    .dataframe tbody tr th:only-of-type {\n",
              "        vertical-align: middle;\n",
              "    }\n",
              "\n",
              "    .dataframe tbody tr th {\n",
              "        vertical-align: top;\n",
              "    }\n",
              "\n",
              "    .dataframe thead th {\n",
              "        text-align: right;\n",
              "    }\n",
              "</style>\n",
              "<table border=\"1\" class=\"dataframe\">\n",
              "  <thead>\n",
              "    <tr style=\"text-align: right;\">\n",
              "      <th></th>\n",
              "      <th>name</th>\n",
              "      <th>specs</th>\n",
              "      <th>price</th>\n",
              "    </tr>\n",
              "  </thead>\n",
              "  <tbody>\n",
              "    <tr>\n",
              "      <th>0</th>\n",
              "      <td>realme C53 (Champion Gold, 64 GB)</td>\n",
              "      <td>6 GB RAM | 64 GB ROM | Expandable Upto 2 TB#17...</td>\n",
              "      <td>₹10,999</td>\n",
              "    </tr>\n",
              "    <tr>\n",
              "      <th>1</th>\n",
              "      <td>realme C53 (Champion Black, 64 GB)</td>\n",
              "      <td>6 GB RAM | 64 GB ROM | Expandable Upto 2 TB#17...</td>\n",
              "      <td>₹10,999</td>\n",
              "    </tr>\n",
              "    <tr>\n",
              "      <th>2</th>\n",
              "      <td>vivo T2x 5G (Marine Blue, 128 GB)</td>\n",
              "      <td>8 GB RAM | 128 GB ROM#16.71 cm (6.58 inch) Ful...</td>\n",
              "      <td>₹15,999</td>\n",
              "    </tr>\n",
              "    <tr>\n",
              "      <th>3</th>\n",
              "      <td>vivo T2x 5G (Glimmer Black, 128 GB)</td>\n",
              "      <td>6 GB RAM | 128 GB ROM#16.71 cm (6.58 inch) Ful...</td>\n",
              "      <td>₹13,999</td>\n",
              "    </tr>\n",
              "    <tr>\n",
              "      <th>4</th>\n",
              "      <td>vivo T2x 5G (Glimmer Black, 128 GB)</td>\n",
              "      <td>8 GB RAM | 128 GB ROM#16.71 cm (6.58 inch) Ful...</td>\n",
              "      <td>₹15,999</td>\n",
              "    </tr>\n",
              "  </tbody>\n",
              "</table>\n",
              "</div>"
            ],
            "text/plain": [
              "                                  name  \\\n",
              "0    realme C53 (Champion Gold, 64 GB)   \n",
              "1   realme C53 (Champion Black, 64 GB)   \n",
              "2    vivo T2x 5G (Marine Blue, 128 GB)   \n",
              "3  vivo T2x 5G (Glimmer Black, 128 GB)   \n",
              "4  vivo T2x 5G (Glimmer Black, 128 GB)   \n",
              "\n",
              "                                               specs    price  \n",
              "0  6 GB RAM | 64 GB ROM | Expandable Upto 2 TB#17...  ₹10,999  \n",
              "1  6 GB RAM | 64 GB ROM | Expandable Upto 2 TB#17...  ₹10,999  \n",
              "2  8 GB RAM | 128 GB ROM#16.71 cm (6.58 inch) Ful...  ₹15,999  \n",
              "3  6 GB RAM | 128 GB ROM#16.71 cm (6.58 inch) Ful...  ₹13,999  \n",
              "4  8 GB RAM | 128 GB ROM#16.71 cm (6.58 inch) Ful...  ₹15,999  "
            ]
          },
          "execution_count": 5,
          "metadata": {},
          "output_type": "execute_result"
        }
      ],
      "source": [
        "data = pd.read_csv('flip_data.csv')\n",
        "data.head()"
      ]
    },
    {
      "cell_type": "code",
      "execution_count": 6,
      "metadata": {
        "colab": {
          "base_uri": "https://localhost:8080/"
        },
        "id": "17P7vwrx4HXf",
        "outputId": "7bb6f49a-e704-464c-f529-7bdbe5b7890c"
      },
      "outputs": [
        {
          "data": {
            "text/plain": [
              "['6 GB RAM | 64 GB ROM | Expandable Upto 2 TB',\n",
              " '17.12 cm (6.74 inch) HD Display',\n",
              " '108MP + 2MP | 8MP Front Camera',\n",
              " '5000 mAh Battery',\n",
              " 'T612 Processor',\n",
              " '1 Year Manufacturer Warranty for Phone and 6 Months Warranty for In the Box Accessories',\n",
              " '']"
            ]
          },
          "execution_count": 6,
          "metadata": {},
          "output_type": "execute_result"
        }
      ],
      "source": [
        "data['specs'][0].split('#')"
      ]
    },
    {
      "cell_type": "code",
      "execution_count": 7,
      "metadata": {
        "id": "WHl9MPnc5jKJ"
      },
      "outputs": [],
      "source": [
        "rs, ds, c, b, p = [], [], [], [], []\n",
        "for i in data['specs']:\n",
        "  specs = i.split('#')\n",
        "  rs.append(specs[0])\n",
        "  ds.append(specs[1])\n",
        "  c.append(specs[2])\n",
        "  b.append(specs[3])\n",
        "  p.append(specs[4])\n",
        "\n",
        "data['ram and storage'] = rs\n",
        "data['display'] = ds\n",
        "data['camera'] = c\n",
        "data['battery'] = b\n",
        "data['processor'] = p"
      ]
    },
    {
      "cell_type": "code",
      "execution_count": 8,
      "metadata": {
        "colab": {
          "base_uri": "https://localhost:8080/"
        },
        "id": "zJ8yWYbYdeQL",
        "outputId": "f0568490-1f19-4eaa-9d10-e8fc9fe41695"
      },
      "outputs": [
        {
          "name": "stdout",
          "output_type": "stream",
          "text": [
            "<class 'pandas.core.frame.DataFrame'>\n",
            "RangeIndex: 1008 entries, 0 to 1007\n",
            "Data columns (total 8 columns):\n",
            " #   Column           Non-Null Count  Dtype \n",
            "---  ------           --------------  ----- \n",
            " 0   name             1008 non-null   object\n",
            " 1   specs            1008 non-null   object\n",
            " 2   price            1008 non-null   object\n",
            " 3   ram and storage  1008 non-null   object\n",
            " 4   display          1008 non-null   object\n",
            " 5   camera           1008 non-null   object\n",
            " 6   battery          1008 non-null   object\n",
            " 7   processor        1008 non-null   object\n",
            "dtypes: object(8)\n",
            "memory usage: 63.1+ KB\n"
          ]
        }
      ],
      "source": [
        "data.info()"
      ]
    },
    {
      "cell_type": "code",
      "execution_count": 9,
      "metadata": {
        "colab": {
          "base_uri": "https://localhost:8080/",
          "height": 293
        },
        "id": "TcMkkR5K92vn",
        "outputId": "787f4664-e2a6-43c9-f23e-eb4901eb61e6"
      },
      "outputs": [
        {
          "data": {
            "text/html": [
              "<div>\n",
              "<style scoped>\n",
              "    .dataframe tbody tr th:only-of-type {\n",
              "        vertical-align: middle;\n",
              "    }\n",
              "\n",
              "    .dataframe tbody tr th {\n",
              "        vertical-align: top;\n",
              "    }\n",
              "\n",
              "    .dataframe thead th {\n",
              "        text-align: right;\n",
              "    }\n",
              "</style>\n",
              "<table border=\"1\" class=\"dataframe\">\n",
              "  <thead>\n",
              "    <tr style=\"text-align: right;\">\n",
              "      <th></th>\n",
              "      <th>name</th>\n",
              "      <th>specs</th>\n",
              "      <th>price</th>\n",
              "      <th>ram and storage</th>\n",
              "      <th>display</th>\n",
              "      <th>camera</th>\n",
              "      <th>battery</th>\n",
              "      <th>processor</th>\n",
              "    </tr>\n",
              "  </thead>\n",
              "  <tbody>\n",
              "    <tr>\n",
              "      <th>0</th>\n",
              "      <td>realme C53 (Champion Gold, 64 GB)</td>\n",
              "      <td>6 GB RAM | 64 GB ROM | Expandable Upto 2 TB#17...</td>\n",
              "      <td>₹10,999</td>\n",
              "      <td>6 GB RAM | 64 GB ROM | Expandable Upto 2 TB</td>\n",
              "      <td>17.12 cm (6.74 inch) HD Display</td>\n",
              "      <td>108MP + 2MP | 8MP Front Camera</td>\n",
              "      <td>5000 mAh Battery</td>\n",
              "      <td>T612 Processor</td>\n",
              "    </tr>\n",
              "    <tr>\n",
              "      <th>1</th>\n",
              "      <td>realme C53 (Champion Black, 64 GB)</td>\n",
              "      <td>6 GB RAM | 64 GB ROM | Expandable Upto 2 TB#17...</td>\n",
              "      <td>₹10,999</td>\n",
              "      <td>6 GB RAM | 64 GB ROM | Expandable Upto 2 TB</td>\n",
              "      <td>17.12 cm (6.74 inch) HD Display</td>\n",
              "      <td>108MP + 2MP | 8MP Front Camera</td>\n",
              "      <td>5000 mAh Battery</td>\n",
              "      <td>T612 Processor</td>\n",
              "    </tr>\n",
              "    <tr>\n",
              "      <th>2</th>\n",
              "      <td>vivo T2x 5G (Marine Blue, 128 GB)</td>\n",
              "      <td>8 GB RAM | 128 GB ROM#16.71 cm (6.58 inch) Ful...</td>\n",
              "      <td>₹15,999</td>\n",
              "      <td>8 GB RAM | 128 GB ROM</td>\n",
              "      <td>16.71 cm (6.58 inch) Full HD+ Display</td>\n",
              "      <td>50MP + 2MP | 8MP Front Camera</td>\n",
              "      <td>5000 mAh Battery</td>\n",
              "      <td>Dimensity 6020 Processor</td>\n",
              "    </tr>\n",
              "    <tr>\n",
              "      <th>3</th>\n",
              "      <td>vivo T2x 5G (Glimmer Black, 128 GB)</td>\n",
              "      <td>6 GB RAM | 128 GB ROM#16.71 cm (6.58 inch) Ful...</td>\n",
              "      <td>₹13,999</td>\n",
              "      <td>6 GB RAM | 128 GB ROM</td>\n",
              "      <td>16.71 cm (6.58 inch) Full HD+ Display</td>\n",
              "      <td>50MP + 2MP | 8MP Front Camera</td>\n",
              "      <td>5000 mAh Battery</td>\n",
              "      <td>Dimensity 6020 Processor</td>\n",
              "    </tr>\n",
              "    <tr>\n",
              "      <th>4</th>\n",
              "      <td>vivo T2x 5G (Glimmer Black, 128 GB)</td>\n",
              "      <td>8 GB RAM | 128 GB ROM#16.71 cm (6.58 inch) Ful...</td>\n",
              "      <td>₹15,999</td>\n",
              "      <td>8 GB RAM | 128 GB ROM</td>\n",
              "      <td>16.71 cm (6.58 inch) Full HD+ Display</td>\n",
              "      <td>50MP + 2MP | 8MP Front Camera</td>\n",
              "      <td>5000 mAh Battery</td>\n",
              "      <td>Dimensity 6020 Processor</td>\n",
              "    </tr>\n",
              "  </tbody>\n",
              "</table>\n",
              "</div>"
            ],
            "text/plain": [
              "                                  name  \\\n",
              "0    realme C53 (Champion Gold, 64 GB)   \n",
              "1   realme C53 (Champion Black, 64 GB)   \n",
              "2    vivo T2x 5G (Marine Blue, 128 GB)   \n",
              "3  vivo T2x 5G (Glimmer Black, 128 GB)   \n",
              "4  vivo T2x 5G (Glimmer Black, 128 GB)   \n",
              "\n",
              "                                               specs    price  \\\n",
              "0  6 GB RAM | 64 GB ROM | Expandable Upto 2 TB#17...  ₹10,999   \n",
              "1  6 GB RAM | 64 GB ROM | Expandable Upto 2 TB#17...  ₹10,999   \n",
              "2  8 GB RAM | 128 GB ROM#16.71 cm (6.58 inch) Ful...  ₹15,999   \n",
              "3  6 GB RAM | 128 GB ROM#16.71 cm (6.58 inch) Ful...  ₹13,999   \n",
              "4  8 GB RAM | 128 GB ROM#16.71 cm (6.58 inch) Ful...  ₹15,999   \n",
              "\n",
              "                               ram and storage  \\\n",
              "0  6 GB RAM | 64 GB ROM | Expandable Upto 2 TB   \n",
              "1  6 GB RAM | 64 GB ROM | Expandable Upto 2 TB   \n",
              "2                        8 GB RAM | 128 GB ROM   \n",
              "3                        6 GB RAM | 128 GB ROM   \n",
              "4                        8 GB RAM | 128 GB ROM   \n",
              "\n",
              "                                 display                          camera  \\\n",
              "0        17.12 cm (6.74 inch) HD Display  108MP + 2MP | 8MP Front Camera   \n",
              "1        17.12 cm (6.74 inch) HD Display  108MP + 2MP | 8MP Front Camera   \n",
              "2  16.71 cm (6.58 inch) Full HD+ Display   50MP + 2MP | 8MP Front Camera   \n",
              "3  16.71 cm (6.58 inch) Full HD+ Display   50MP + 2MP | 8MP Front Camera   \n",
              "4  16.71 cm (6.58 inch) Full HD+ Display   50MP + 2MP | 8MP Front Camera   \n",
              "\n",
              "            battery                 processor  \n",
              "0  5000 mAh Battery            T612 Processor  \n",
              "1  5000 mAh Battery            T612 Processor  \n",
              "2  5000 mAh Battery  Dimensity 6020 Processor  \n",
              "3  5000 mAh Battery  Dimensity 6020 Processor  \n",
              "4  5000 mAh Battery  Dimensity 6020 Processor  "
            ]
          },
          "execution_count": 9,
          "metadata": {},
          "output_type": "execute_result"
        }
      ],
      "source": [
        "data.head()"
      ]
    },
    {
      "cell_type": "code",
      "execution_count": 10,
      "metadata": {
        "colab": {
          "base_uri": "https://localhost:8080/",
          "height": 36
        },
        "id": "HQpRSogoqu5T",
        "outputId": "fb5907c7-7607-42b8-ac86-ff8b88749ebf"
      },
      "outputs": [
        {
          "data": {
            "text/plain": [
              "'realme'"
            ]
          },
          "execution_count": 10,
          "metadata": {},
          "output_type": "execute_result"
        }
      ],
      "source": [
        "data['name'][0].split('(')[0].split(' ')[0]"
      ]
    },
    {
      "cell_type": "markdown",
      "metadata": {
        "id": "T52_bGGkhyaw"
      },
      "source": [
        "# Data cleaning"
      ]
    },
    {
      "cell_type": "code",
      "execution_count": 11,
      "metadata": {
        "colab": {
          "base_uri": "https://localhost:8080/",
          "height": 423
        },
        "id": "mZ5DveeZfP5p",
        "outputId": "6e00f932-8e40-4159-b918-b67acad769e6"
      },
      "outputs": [
        {
          "data": {
            "text/html": [
              "<div>\n",
              "<style scoped>\n",
              "    .dataframe tbody tr th:only-of-type {\n",
              "        vertical-align: middle;\n",
              "    }\n",
              "\n",
              "    .dataframe tbody tr th {\n",
              "        vertical-align: top;\n",
              "    }\n",
              "\n",
              "    .dataframe thead th {\n",
              "        text-align: right;\n",
              "    }\n",
              "</style>\n",
              "<table border=\"1\" class=\"dataframe\">\n",
              "  <thead>\n",
              "    <tr style=\"text-align: right;\">\n",
              "      <th></th>\n",
              "      <th>brand</th>\n",
              "      <th>model</th>\n",
              "    </tr>\n",
              "  </thead>\n",
              "  <tbody>\n",
              "    <tr>\n",
              "      <th>0</th>\n",
              "      <td>realme</td>\n",
              "      <td>c53</td>\n",
              "    </tr>\n",
              "    <tr>\n",
              "      <th>1</th>\n",
              "      <td>realme</td>\n",
              "      <td>c53</td>\n",
              "    </tr>\n",
              "    <tr>\n",
              "      <th>2</th>\n",
              "      <td>vivo</td>\n",
              "      <td>t2x 5g</td>\n",
              "    </tr>\n",
              "    <tr>\n",
              "      <th>3</th>\n",
              "      <td>vivo</td>\n",
              "      <td>t2x 5g</td>\n",
              "    </tr>\n",
              "    <tr>\n",
              "      <th>4</th>\n",
              "      <td>vivo</td>\n",
              "      <td>t2x 5g</td>\n",
              "    </tr>\n",
              "    <tr>\n",
              "      <th>...</th>\n",
              "      <td>...</td>\n",
              "      <td>...</td>\n",
              "    </tr>\n",
              "    <tr>\n",
              "      <th>1003</th>\n",
              "      <td>moto</td>\n",
              "      <td>g 5g</td>\n",
              "    </tr>\n",
              "    <tr>\n",
              "      <th>1004</th>\n",
              "      <td>samsung</td>\n",
              "      <td>galaxy a13</td>\n",
              "    </tr>\n",
              "    <tr>\n",
              "      <th>1005</th>\n",
              "      <td>mi</td>\n",
              "      <td>10t pro</td>\n",
              "    </tr>\n",
              "    <tr>\n",
              "      <th>1006</th>\n",
              "      <td>moto</td>\n",
              "      <td>g 5g</td>\n",
              "    </tr>\n",
              "    <tr>\n",
              "      <th>1007</th>\n",
              "      <td>motorola</td>\n",
              "      <td>edge 30 ultra</td>\n",
              "    </tr>\n",
              "  </tbody>\n",
              "</table>\n",
              "<p>1008 rows × 2 columns</p>\n",
              "</div>"
            ],
            "text/plain": [
              "         brand           model\n",
              "0       realme            c53 \n",
              "1       realme            c53 \n",
              "2         vivo         t2x 5g \n",
              "3         vivo         t2x 5g \n",
              "4         vivo         t2x 5g \n",
              "...        ...             ...\n",
              "1003      moto           g 5g \n",
              "1004   samsung     galaxy a13 \n",
              "1005        mi        10t pro \n",
              "1006      moto           g 5g \n",
              "1007  motorola  edge 30 ultra \n",
              "\n",
              "[1008 rows x 2 columns]"
            ]
          },
          "execution_count": 11,
          "metadata": {},
          "output_type": "execute_result"
        }
      ],
      "source": [
        "train_data = pd.DataFrame([i.split('(')[0].split(' ')[0].lower() for i in data['name']], columns=['brand'])\n",
        "train_data['model'] = [' '.join(i.split('(')[0].split(' ')[1:]).lower() for i in data['name']]\n",
        "train_data"
      ]
    },
    {
      "cell_type": "code",
      "execution_count": 12,
      "metadata": {
        "colab": {
          "base_uri": "https://localhost:8080/",
          "height": 206
        },
        "id": "lRUiJH2Tgg9q",
        "outputId": "144e9ae4-5974-4fec-bce5-957fba750fb4"
      },
      "outputs": [
        {
          "data": {
            "text/html": [
              "<div>\n",
              "<style scoped>\n",
              "    .dataframe tbody tr th:only-of-type {\n",
              "        vertical-align: middle;\n",
              "    }\n",
              "\n",
              "    .dataframe tbody tr th {\n",
              "        vertical-align: top;\n",
              "    }\n",
              "\n",
              "    .dataframe thead th {\n",
              "        text-align: right;\n",
              "    }\n",
              "</style>\n",
              "<table border=\"1\" class=\"dataframe\">\n",
              "  <thead>\n",
              "    <tr style=\"text-align: right;\">\n",
              "      <th></th>\n",
              "      <th>brand</th>\n",
              "      <th>model</th>\n",
              "      <th>ram</th>\n",
              "      <th>storage</th>\n",
              "    </tr>\n",
              "  </thead>\n",
              "  <tbody>\n",
              "    <tr>\n",
              "      <th>0</th>\n",
              "      <td>realme</td>\n",
              "      <td>c53</td>\n",
              "      <td>6</td>\n",
              "      <td>64</td>\n",
              "    </tr>\n",
              "    <tr>\n",
              "      <th>1</th>\n",
              "      <td>realme</td>\n",
              "      <td>c53</td>\n",
              "      <td>6</td>\n",
              "      <td>64</td>\n",
              "    </tr>\n",
              "    <tr>\n",
              "      <th>2</th>\n",
              "      <td>vivo</td>\n",
              "      <td>t2x 5g</td>\n",
              "      <td>8</td>\n",
              "      <td>128</td>\n",
              "    </tr>\n",
              "    <tr>\n",
              "      <th>3</th>\n",
              "      <td>vivo</td>\n",
              "      <td>t2x 5g</td>\n",
              "      <td>6</td>\n",
              "      <td>128</td>\n",
              "    </tr>\n",
              "    <tr>\n",
              "      <th>4</th>\n",
              "      <td>vivo</td>\n",
              "      <td>t2x 5g</td>\n",
              "      <td>8</td>\n",
              "      <td>128</td>\n",
              "    </tr>\n",
              "  </tbody>\n",
              "</table>\n",
              "</div>"
            ],
            "text/plain": [
              "    brand    model  ram  storage\n",
              "0  realme     c53     6       64\n",
              "1  realme     c53     6       64\n",
              "2    vivo  t2x 5g     8      128\n",
              "3    vivo  t2x 5g     6      128\n",
              "4    vivo  t2x 5g     8      128"
            ]
          },
          "execution_count": 12,
          "metadata": {},
          "output_type": "execute_result"
        }
      ],
      "source": [
        "train_data['ram'] = [int(i.split(' ')[0]) for i in data['ram and storage']]\n",
        "train_data['storage'] = [int(i.split(' ')[4]) for i in data['ram and storage']]\n",
        "\n",
        "train_data.head()"
      ]
    },
    {
      "cell_type": "code",
      "execution_count": 13,
      "metadata": {
        "colab": {
          "base_uri": "https://localhost:8080/",
          "height": 206
        },
        "id": "8xL8wTMLjEI9",
        "outputId": "fa7314b5-d28a-4e3b-d402-04696b01430f"
      },
      "outputs": [
        {
          "data": {
            "text/html": [
              "<div>\n",
              "<style scoped>\n",
              "    .dataframe tbody tr th:only-of-type {\n",
              "        vertical-align: middle;\n",
              "    }\n",
              "\n",
              "    .dataframe tbody tr th {\n",
              "        vertical-align: top;\n",
              "    }\n",
              "\n",
              "    .dataframe thead th {\n",
              "        text-align: right;\n",
              "    }\n",
              "</style>\n",
              "<table border=\"1\" class=\"dataframe\">\n",
              "  <thead>\n",
              "    <tr style=\"text-align: right;\">\n",
              "      <th></th>\n",
              "      <th>brand</th>\n",
              "      <th>model</th>\n",
              "      <th>ram</th>\n",
              "      <th>storage</th>\n",
              "      <th>display size</th>\n",
              "    </tr>\n",
              "  </thead>\n",
              "  <tbody>\n",
              "    <tr>\n",
              "      <th>0</th>\n",
              "      <td>realme</td>\n",
              "      <td>c53</td>\n",
              "      <td>6</td>\n",
              "      <td>64</td>\n",
              "      <td>6.74</td>\n",
              "    </tr>\n",
              "    <tr>\n",
              "      <th>1</th>\n",
              "      <td>realme</td>\n",
              "      <td>c53</td>\n",
              "      <td>6</td>\n",
              "      <td>64</td>\n",
              "      <td>6.74</td>\n",
              "    </tr>\n",
              "    <tr>\n",
              "      <th>2</th>\n",
              "      <td>vivo</td>\n",
              "      <td>t2x 5g</td>\n",
              "      <td>8</td>\n",
              "      <td>128</td>\n",
              "      <td>6.58</td>\n",
              "    </tr>\n",
              "    <tr>\n",
              "      <th>3</th>\n",
              "      <td>vivo</td>\n",
              "      <td>t2x 5g</td>\n",
              "      <td>6</td>\n",
              "      <td>128</td>\n",
              "      <td>6.58</td>\n",
              "    </tr>\n",
              "    <tr>\n",
              "      <th>4</th>\n",
              "      <td>vivo</td>\n",
              "      <td>t2x 5g</td>\n",
              "      <td>8</td>\n",
              "      <td>128</td>\n",
              "      <td>6.58</td>\n",
              "    </tr>\n",
              "  </tbody>\n",
              "</table>\n",
              "</div>"
            ],
            "text/plain": [
              "    brand    model  ram  storage  display size\n",
              "0  realme     c53     6       64          6.74\n",
              "1  realme     c53     6       64          6.74\n",
              "2    vivo  t2x 5g     8      128          6.58\n",
              "3    vivo  t2x 5g     6      128          6.58\n",
              "4    vivo  t2x 5g     8      128          6.58"
            ]
          },
          "execution_count": 13,
          "metadata": {},
          "output_type": "execute_result"
        }
      ],
      "source": [
        "train_data['display size'] = [float(i.split(' ')[2][1:]) for i in data['display']]\n",
        "train_data.head()"
      ]
    },
    {
      "cell_type": "code",
      "execution_count": 14,
      "metadata": {
        "colab": {
          "base_uri": "https://localhost:8080/",
          "height": 206
        },
        "id": "66Pq5iCbkIyw",
        "outputId": "291a3c8d-0599-4f4a-a986-ce2d8e7227a5"
      },
      "outputs": [
        {
          "data": {
            "text/html": [
              "<div>\n",
              "<style scoped>\n",
              "    .dataframe tbody tr th:only-of-type {\n",
              "        vertical-align: middle;\n",
              "    }\n",
              "\n",
              "    .dataframe tbody tr th {\n",
              "        vertical-align: top;\n",
              "    }\n",
              "\n",
              "    .dataframe thead th {\n",
              "        text-align: right;\n",
              "    }\n",
              "</style>\n",
              "<table border=\"1\" class=\"dataframe\">\n",
              "  <thead>\n",
              "    <tr style=\"text-align: right;\">\n",
              "      <th></th>\n",
              "      <th>brand</th>\n",
              "      <th>model</th>\n",
              "      <th>ram</th>\n",
              "      <th>storage</th>\n",
              "      <th>display size</th>\n",
              "      <th>display type</th>\n",
              "    </tr>\n",
              "  </thead>\n",
              "  <tbody>\n",
              "    <tr>\n",
              "      <th>0</th>\n",
              "      <td>realme</td>\n",
              "      <td>c53</td>\n",
              "      <td>6</td>\n",
              "      <td>64</td>\n",
              "      <td>6.74</td>\n",
              "      <td>HD Display</td>\n",
              "    </tr>\n",
              "    <tr>\n",
              "      <th>1</th>\n",
              "      <td>realme</td>\n",
              "      <td>c53</td>\n",
              "      <td>6</td>\n",
              "      <td>64</td>\n",
              "      <td>6.74</td>\n",
              "      <td>HD Display</td>\n",
              "    </tr>\n",
              "    <tr>\n",
              "      <th>2</th>\n",
              "      <td>vivo</td>\n",
              "      <td>t2x 5g</td>\n",
              "      <td>8</td>\n",
              "      <td>128</td>\n",
              "      <td>6.58</td>\n",
              "      <td>Full HD</td>\n",
              "    </tr>\n",
              "    <tr>\n",
              "      <th>3</th>\n",
              "      <td>vivo</td>\n",
              "      <td>t2x 5g</td>\n",
              "      <td>6</td>\n",
              "      <td>128</td>\n",
              "      <td>6.58</td>\n",
              "      <td>Full HD</td>\n",
              "    </tr>\n",
              "    <tr>\n",
              "      <th>4</th>\n",
              "      <td>vivo</td>\n",
              "      <td>t2x 5g</td>\n",
              "      <td>8</td>\n",
              "      <td>128</td>\n",
              "      <td>6.58</td>\n",
              "      <td>Full HD</td>\n",
              "    </tr>\n",
              "  </tbody>\n",
              "</table>\n",
              "</div>"
            ],
            "text/plain": [
              "    brand    model  ram  storage  display size display type\n",
              "0  realme     c53     6       64          6.74   HD Display\n",
              "1  realme     c53     6       64          6.74   HD Display\n",
              "2    vivo  t2x 5g     8      128          6.58      Full HD\n",
              "3    vivo  t2x 5g     6      128          6.58      Full HD\n",
              "4    vivo  t2x 5g     8      128          6.58      Full HD"
            ]
          },
          "execution_count": 14,
          "metadata": {},
          "output_type": "execute_result"
        }
      ],
      "source": [
        "train_data['display type'] = [i.split(')')[1].split('+')[0][1:] for i in data['display']]\n",
        "train_data.head()"
      ]
    },
    {
      "cell_type": "code",
      "execution_count": 15,
      "metadata": {
        "colab": {
          "base_uri": "https://localhost:8080/"
        },
        "id": "Rbd14eaGxg8z",
        "outputId": "30fd12ce-e314-45f4-aa41-26751dd6dc97"
      },
      "outputs": [
        {
          "data": {
            "text/plain": [
              "display type\n",
              "Full HD            608\n",
              "Display            225\n",
              "HD                 147\n",
              "Full HD Display     11\n",
              "HD Display           8\n",
              "Quad HD              7\n",
              "Quad HD Display      2\n",
              "Name: count, dtype: int64"
            ]
          },
          "execution_count": 15,
          "metadata": {},
          "output_type": "execute_result"
        }
      ],
      "source": [
        "train_data['display type'].value_counts()"
      ]
    },
    {
      "cell_type": "markdown",
      "metadata": {
        "id": "3SQKb51gk1gl"
      },
      "source": [
        "Note : some of the does not reveal the resolution of the displays."
      ]
    },
    {
      "cell_type": "code",
      "execution_count": 16,
      "metadata": {
        "id": "sCVqaAn1kx4P"
      },
      "outputs": [],
      "source": [
        "train_data['rear camera'] = [int(re.findall('[0-9]+', i)[0]) for i in data['camera']]"
      ]
    },
    {
      "cell_type": "code",
      "execution_count": 17,
      "metadata": {
        "colab": {
          "base_uri": "https://localhost:8080/",
          "height": 206
        },
        "id": "JDGgI2dKFsFy",
        "outputId": "34775138-40cc-4aa6-8f5e-b56663a696a1"
      },
      "outputs": [
        {
          "data": {
            "text/html": [
              "<div>\n",
              "<style scoped>\n",
              "    .dataframe tbody tr th:only-of-type {\n",
              "        vertical-align: middle;\n",
              "    }\n",
              "\n",
              "    .dataframe tbody tr th {\n",
              "        vertical-align: top;\n",
              "    }\n",
              "\n",
              "    .dataframe thead th {\n",
              "        text-align: right;\n",
              "    }\n",
              "</style>\n",
              "<table border=\"1\" class=\"dataframe\">\n",
              "  <thead>\n",
              "    <tr style=\"text-align: right;\">\n",
              "      <th></th>\n",
              "      <th>brand</th>\n",
              "      <th>model</th>\n",
              "      <th>ram</th>\n",
              "      <th>storage</th>\n",
              "      <th>display size</th>\n",
              "      <th>display type</th>\n",
              "      <th>rear camera</th>\n",
              "    </tr>\n",
              "  </thead>\n",
              "  <tbody>\n",
              "    <tr>\n",
              "      <th>0</th>\n",
              "      <td>realme</td>\n",
              "      <td>c53</td>\n",
              "      <td>6</td>\n",
              "      <td>64</td>\n",
              "      <td>6.74</td>\n",
              "      <td>HD Display</td>\n",
              "      <td>108</td>\n",
              "    </tr>\n",
              "    <tr>\n",
              "      <th>1</th>\n",
              "      <td>realme</td>\n",
              "      <td>c53</td>\n",
              "      <td>6</td>\n",
              "      <td>64</td>\n",
              "      <td>6.74</td>\n",
              "      <td>HD Display</td>\n",
              "      <td>108</td>\n",
              "    </tr>\n",
              "    <tr>\n",
              "      <th>2</th>\n",
              "      <td>vivo</td>\n",
              "      <td>t2x 5g</td>\n",
              "      <td>8</td>\n",
              "      <td>128</td>\n",
              "      <td>6.58</td>\n",
              "      <td>Full HD</td>\n",
              "      <td>50</td>\n",
              "    </tr>\n",
              "    <tr>\n",
              "      <th>3</th>\n",
              "      <td>vivo</td>\n",
              "      <td>t2x 5g</td>\n",
              "      <td>6</td>\n",
              "      <td>128</td>\n",
              "      <td>6.58</td>\n",
              "      <td>Full HD</td>\n",
              "      <td>50</td>\n",
              "    </tr>\n",
              "    <tr>\n",
              "      <th>4</th>\n",
              "      <td>vivo</td>\n",
              "      <td>t2x 5g</td>\n",
              "      <td>8</td>\n",
              "      <td>128</td>\n",
              "      <td>6.58</td>\n",
              "      <td>Full HD</td>\n",
              "      <td>50</td>\n",
              "    </tr>\n",
              "  </tbody>\n",
              "</table>\n",
              "</div>"
            ],
            "text/plain": [
              "    brand    model  ram  storage  display size display type  rear camera\n",
              "0  realme     c53     6       64          6.74   HD Display          108\n",
              "1  realme     c53     6       64          6.74   HD Display          108\n",
              "2    vivo  t2x 5g     8      128          6.58      Full HD           50\n",
              "3    vivo  t2x 5g     6      128          6.58      Full HD           50\n",
              "4    vivo  t2x 5g     8      128          6.58      Full HD           50"
            ]
          },
          "execution_count": 17,
          "metadata": {},
          "output_type": "execute_result"
        }
      ],
      "source": [
        "train_data.head()"
      ]
    },
    {
      "cell_type": "code",
      "execution_count": 18,
      "metadata": {
        "id": "B9MEbiOoEYix"
      },
      "outputs": [],
      "source": [
        "train_data['front camera'] = [int(re.findall('[0-9]+', i)[-1]) for i in data['camera']]"
      ]
    },
    {
      "cell_type": "code",
      "execution_count": 19,
      "metadata": {
        "colab": {
          "base_uri": "https://localhost:8080/",
          "height": 206
        },
        "id": "u6G4uz6QFQmF",
        "outputId": "26c6a253-df53-42f0-b94c-04e529efa9e0"
      },
      "outputs": [
        {
          "data": {
            "text/html": [
              "<div>\n",
              "<style scoped>\n",
              "    .dataframe tbody tr th:only-of-type {\n",
              "        vertical-align: middle;\n",
              "    }\n",
              "\n",
              "    .dataframe tbody tr th {\n",
              "        vertical-align: top;\n",
              "    }\n",
              "\n",
              "    .dataframe thead th {\n",
              "        text-align: right;\n",
              "    }\n",
              "</style>\n",
              "<table border=\"1\" class=\"dataframe\">\n",
              "  <thead>\n",
              "    <tr style=\"text-align: right;\">\n",
              "      <th></th>\n",
              "      <th>brand</th>\n",
              "      <th>model</th>\n",
              "      <th>ram</th>\n",
              "      <th>storage</th>\n",
              "      <th>display size</th>\n",
              "      <th>display type</th>\n",
              "      <th>rear camera</th>\n",
              "      <th>front camera</th>\n",
              "    </tr>\n",
              "  </thead>\n",
              "  <tbody>\n",
              "    <tr>\n",
              "      <th>0</th>\n",
              "      <td>realme</td>\n",
              "      <td>c53</td>\n",
              "      <td>6</td>\n",
              "      <td>64</td>\n",
              "      <td>6.74</td>\n",
              "      <td>HD Display</td>\n",
              "      <td>108</td>\n",
              "      <td>8</td>\n",
              "    </tr>\n",
              "    <tr>\n",
              "      <th>1</th>\n",
              "      <td>realme</td>\n",
              "      <td>c53</td>\n",
              "      <td>6</td>\n",
              "      <td>64</td>\n",
              "      <td>6.74</td>\n",
              "      <td>HD Display</td>\n",
              "      <td>108</td>\n",
              "      <td>8</td>\n",
              "    </tr>\n",
              "    <tr>\n",
              "      <th>2</th>\n",
              "      <td>vivo</td>\n",
              "      <td>t2x 5g</td>\n",
              "      <td>8</td>\n",
              "      <td>128</td>\n",
              "      <td>6.58</td>\n",
              "      <td>Full HD</td>\n",
              "      <td>50</td>\n",
              "      <td>8</td>\n",
              "    </tr>\n",
              "    <tr>\n",
              "      <th>3</th>\n",
              "      <td>vivo</td>\n",
              "      <td>t2x 5g</td>\n",
              "      <td>6</td>\n",
              "      <td>128</td>\n",
              "      <td>6.58</td>\n",
              "      <td>Full HD</td>\n",
              "      <td>50</td>\n",
              "      <td>8</td>\n",
              "    </tr>\n",
              "    <tr>\n",
              "      <th>4</th>\n",
              "      <td>vivo</td>\n",
              "      <td>t2x 5g</td>\n",
              "      <td>8</td>\n",
              "      <td>128</td>\n",
              "      <td>6.58</td>\n",
              "      <td>Full HD</td>\n",
              "      <td>50</td>\n",
              "      <td>8</td>\n",
              "    </tr>\n",
              "  </tbody>\n",
              "</table>\n",
              "</div>"
            ],
            "text/plain": [
              "    brand    model  ram  storage  display size display type  rear camera  \\\n",
              "0  realme     c53     6       64          6.74   HD Display          108   \n",
              "1  realme     c53     6       64          6.74   HD Display          108   \n",
              "2    vivo  t2x 5g     8      128          6.58      Full HD           50   \n",
              "3    vivo  t2x 5g     6      128          6.58      Full HD           50   \n",
              "4    vivo  t2x 5g     8      128          6.58      Full HD           50   \n",
              "\n",
              "   front camera  \n",
              "0             8  \n",
              "1             8  \n",
              "2             8  \n",
              "3             8  \n",
              "4             8  "
            ]
          },
          "execution_count": 19,
          "metadata": {},
          "output_type": "execute_result"
        }
      ],
      "source": [
        "train_data.head()"
      ]
    },
    {
      "cell_type": "code",
      "execution_count": 20,
      "metadata": {
        "colab": {
          "base_uri": "https://localhost:8080/",
          "height": 206
        },
        "id": "QsdRzbUlF7ex",
        "outputId": "a4f399e7-aafe-4162-e918-1bc85257fa39"
      },
      "outputs": [
        {
          "data": {
            "text/html": [
              "<div>\n",
              "<style scoped>\n",
              "    .dataframe tbody tr th:only-of-type {\n",
              "        vertical-align: middle;\n",
              "    }\n",
              "\n",
              "    .dataframe tbody tr th {\n",
              "        vertical-align: top;\n",
              "    }\n",
              "\n",
              "    .dataframe thead th {\n",
              "        text-align: right;\n",
              "    }\n",
              "</style>\n",
              "<table border=\"1\" class=\"dataframe\">\n",
              "  <thead>\n",
              "    <tr style=\"text-align: right;\">\n",
              "      <th></th>\n",
              "      <th>brand</th>\n",
              "      <th>model</th>\n",
              "      <th>ram</th>\n",
              "      <th>storage</th>\n",
              "      <th>display size</th>\n",
              "      <th>display type</th>\n",
              "      <th>rear camera</th>\n",
              "      <th>front camera</th>\n",
              "      <th>battery</th>\n",
              "    </tr>\n",
              "  </thead>\n",
              "  <tbody>\n",
              "    <tr>\n",
              "      <th>0</th>\n",
              "      <td>realme</td>\n",
              "      <td>c53</td>\n",
              "      <td>6</td>\n",
              "      <td>64</td>\n",
              "      <td>6.74</td>\n",
              "      <td>HD Display</td>\n",
              "      <td>108</td>\n",
              "      <td>8</td>\n",
              "      <td>5000</td>\n",
              "    </tr>\n",
              "    <tr>\n",
              "      <th>1</th>\n",
              "      <td>realme</td>\n",
              "      <td>c53</td>\n",
              "      <td>6</td>\n",
              "      <td>64</td>\n",
              "      <td>6.74</td>\n",
              "      <td>HD Display</td>\n",
              "      <td>108</td>\n",
              "      <td>8</td>\n",
              "      <td>5000</td>\n",
              "    </tr>\n",
              "    <tr>\n",
              "      <th>2</th>\n",
              "      <td>vivo</td>\n",
              "      <td>t2x 5g</td>\n",
              "      <td>8</td>\n",
              "      <td>128</td>\n",
              "      <td>6.58</td>\n",
              "      <td>Full HD</td>\n",
              "      <td>50</td>\n",
              "      <td>8</td>\n",
              "      <td>5000</td>\n",
              "    </tr>\n",
              "    <tr>\n",
              "      <th>3</th>\n",
              "      <td>vivo</td>\n",
              "      <td>t2x 5g</td>\n",
              "      <td>6</td>\n",
              "      <td>128</td>\n",
              "      <td>6.58</td>\n",
              "      <td>Full HD</td>\n",
              "      <td>50</td>\n",
              "      <td>8</td>\n",
              "      <td>5000</td>\n",
              "    </tr>\n",
              "    <tr>\n",
              "      <th>4</th>\n",
              "      <td>vivo</td>\n",
              "      <td>t2x 5g</td>\n",
              "      <td>8</td>\n",
              "      <td>128</td>\n",
              "      <td>6.58</td>\n",
              "      <td>Full HD</td>\n",
              "      <td>50</td>\n",
              "      <td>8</td>\n",
              "      <td>5000</td>\n",
              "    </tr>\n",
              "  </tbody>\n",
              "</table>\n",
              "</div>"
            ],
            "text/plain": [
              "    brand    model  ram  storage  display size display type  rear camera  \\\n",
              "0  realme     c53     6       64          6.74   HD Display          108   \n",
              "1  realme     c53     6       64          6.74   HD Display          108   \n",
              "2    vivo  t2x 5g     8      128          6.58      Full HD           50   \n",
              "3    vivo  t2x 5g     6      128          6.58      Full HD           50   \n",
              "4    vivo  t2x 5g     8      128          6.58      Full HD           50   \n",
              "\n",
              "   front camera  battery  \n",
              "0             8     5000  \n",
              "1             8     5000  \n",
              "2             8     5000  \n",
              "3             8     5000  \n",
              "4             8     5000  "
            ]
          },
          "execution_count": 20,
          "metadata": {},
          "output_type": "execute_result"
        }
      ],
      "source": [
        "train_data['battery'] = [int(re.findall('[0-9]+', i)[0]) for i in data['battery']]\n",
        "train_data.head()"
      ]
    },
    {
      "cell_type": "code",
      "execution_count": 21,
      "metadata": {
        "colab": {
          "base_uri": "https://localhost:8080/"
        },
        "id": "ckEASeslGKNY",
        "outputId": "7ee7d555-4418-4d9b-b637-225fb6f27766"
      },
      "outputs": [
        {
          "data": {
            "text/plain": [
              "processor\n",
              "Qualcomm Snapdragon 680 Processor                      39\n",
              "1 Year Warranty                                        38\n",
              "12 Months Warranty                                     33\n",
              "Mediatek Helio P35 Processor                           26\n",
              "Mediatek Dimensity 1080 Processor                      22\n",
              "                                                       ..\n",
              "1 YEAR FOR DEVICE & SIX MONTH FOR INBOX ACCESSORIES     1\n",
              "12 MONTHS                                               1\n",
              "Mediatek Dimensity 8100 Max Processor                   1\n",
              "Snapdragon® 8 Gen 1 Mobile Processor Processor          1\n",
              "Mediatek MT6765 Helio P35 (12nm) Processor              1\n",
              "Name: count, Length: 180, dtype: int64"
            ]
          },
          "execution_count": 21,
          "metadata": {},
          "output_type": "execute_result"
        }
      ],
      "source": [
        "data['processor'].value_counts()"
      ]
    },
    {
      "cell_type": "markdown",
      "metadata": {
        "id": "ov3z0ZRelD8p"
      },
      "source": [
        "Just like the resolution some of the brands does not mention the processor information, that is why when we are scraping the data we got warranty info inplace of processor"
      ]
    },
    {
      "cell_type": "code",
      "execution_count": 22,
      "metadata": {
        "colab": {
          "base_uri": "https://localhost:8080/",
          "height": 206
        },
        "id": "zoWiuNTFpJLa",
        "outputId": "9a4508bd-27ef-40c6-9daa-7db05539208d"
      },
      "outputs": [
        {
          "data": {
            "text/html": [
              "<div>\n",
              "<style scoped>\n",
              "    .dataframe tbody tr th:only-of-type {\n",
              "        vertical-align: middle;\n",
              "    }\n",
              "\n",
              "    .dataframe tbody tr th {\n",
              "        vertical-align: top;\n",
              "    }\n",
              "\n",
              "    .dataframe thead th {\n",
              "        text-align: right;\n",
              "    }\n",
              "</style>\n",
              "<table border=\"1\" class=\"dataframe\">\n",
              "  <thead>\n",
              "    <tr style=\"text-align: right;\">\n",
              "      <th></th>\n",
              "      <th>brand</th>\n",
              "      <th>model</th>\n",
              "      <th>ram</th>\n",
              "      <th>storage</th>\n",
              "      <th>display size</th>\n",
              "      <th>display type</th>\n",
              "      <th>rear camera</th>\n",
              "      <th>front camera</th>\n",
              "      <th>battery</th>\n",
              "    </tr>\n",
              "  </thead>\n",
              "  <tbody>\n",
              "    <tr>\n",
              "      <th>0</th>\n",
              "      <td>realme</td>\n",
              "      <td>c53</td>\n",
              "      <td>6</td>\n",
              "      <td>64</td>\n",
              "      <td>6.74</td>\n",
              "      <td>HD Display</td>\n",
              "      <td>108</td>\n",
              "      <td>8</td>\n",
              "      <td>5000</td>\n",
              "    </tr>\n",
              "    <tr>\n",
              "      <th>1</th>\n",
              "      <td>realme</td>\n",
              "      <td>c53</td>\n",
              "      <td>6</td>\n",
              "      <td>64</td>\n",
              "      <td>6.74</td>\n",
              "      <td>HD Display</td>\n",
              "      <td>108</td>\n",
              "      <td>8</td>\n",
              "      <td>5000</td>\n",
              "    </tr>\n",
              "    <tr>\n",
              "      <th>2</th>\n",
              "      <td>vivo</td>\n",
              "      <td>t2x 5g</td>\n",
              "      <td>8</td>\n",
              "      <td>128</td>\n",
              "      <td>6.58</td>\n",
              "      <td>Full HD</td>\n",
              "      <td>50</td>\n",
              "      <td>8</td>\n",
              "      <td>5000</td>\n",
              "    </tr>\n",
              "    <tr>\n",
              "      <th>3</th>\n",
              "      <td>vivo</td>\n",
              "      <td>t2x 5g</td>\n",
              "      <td>6</td>\n",
              "      <td>128</td>\n",
              "      <td>6.58</td>\n",
              "      <td>Full HD</td>\n",
              "      <td>50</td>\n",
              "      <td>8</td>\n",
              "      <td>5000</td>\n",
              "    </tr>\n",
              "    <tr>\n",
              "      <th>4</th>\n",
              "      <td>vivo</td>\n",
              "      <td>t2x 5g</td>\n",
              "      <td>8</td>\n",
              "      <td>128</td>\n",
              "      <td>6.58</td>\n",
              "      <td>Full HD</td>\n",
              "      <td>50</td>\n",
              "      <td>8</td>\n",
              "      <td>5000</td>\n",
              "    </tr>\n",
              "  </tbody>\n",
              "</table>\n",
              "</div>"
            ],
            "text/plain": [
              "    brand    model  ram  storage  display size display type  rear camera  \\\n",
              "0  realme     c53     6       64          6.74   HD Display          108   \n",
              "1  realme     c53     6       64          6.74   HD Display          108   \n",
              "2    vivo  t2x 5g     8      128          6.58      Full HD           50   \n",
              "3    vivo  t2x 5g     6      128          6.58      Full HD           50   \n",
              "4    vivo  t2x 5g     8      128          6.58      Full HD           50   \n",
              "\n",
              "   front camera  battery  \n",
              "0             8     5000  \n",
              "1             8     5000  \n",
              "2             8     5000  \n",
              "3             8     5000  \n",
              "4             8     5000  "
            ]
          },
          "execution_count": 22,
          "metadata": {},
          "output_type": "execute_result"
        }
      ],
      "source": [
        "train_data.head()"
      ]
    },
    {
      "cell_type": "code",
      "execution_count": 23,
      "metadata": {
        "colab": {
          "base_uri": "https://localhost:8080/",
          "height": 206
        },
        "id": "l790P4-dpxUJ",
        "outputId": "bceca437-fb5d-4716-b3ee-5a172dcca7f3"
      },
      "outputs": [
        {
          "data": {
            "text/html": [
              "<div>\n",
              "<style scoped>\n",
              "    .dataframe tbody tr th:only-of-type {\n",
              "        vertical-align: middle;\n",
              "    }\n",
              "\n",
              "    .dataframe tbody tr th {\n",
              "        vertical-align: top;\n",
              "    }\n",
              "\n",
              "    .dataframe thead th {\n",
              "        text-align: right;\n",
              "    }\n",
              "</style>\n",
              "<table border=\"1\" class=\"dataframe\">\n",
              "  <thead>\n",
              "    <tr style=\"text-align: right;\">\n",
              "      <th></th>\n",
              "      <th>brand</th>\n",
              "      <th>model</th>\n",
              "      <th>ram</th>\n",
              "      <th>storage</th>\n",
              "      <th>display size</th>\n",
              "      <th>display type</th>\n",
              "      <th>rear camera</th>\n",
              "      <th>front camera</th>\n",
              "      <th>battery</th>\n",
              "      <th>price</th>\n",
              "    </tr>\n",
              "  </thead>\n",
              "  <tbody>\n",
              "    <tr>\n",
              "      <th>0</th>\n",
              "      <td>realme</td>\n",
              "      <td>c53</td>\n",
              "      <td>6</td>\n",
              "      <td>64</td>\n",
              "      <td>6.74</td>\n",
              "      <td>HD Display</td>\n",
              "      <td>108</td>\n",
              "      <td>8</td>\n",
              "      <td>5000</td>\n",
              "      <td>10,999</td>\n",
              "    </tr>\n",
              "    <tr>\n",
              "      <th>1</th>\n",
              "      <td>realme</td>\n",
              "      <td>c53</td>\n",
              "      <td>6</td>\n",
              "      <td>64</td>\n",
              "      <td>6.74</td>\n",
              "      <td>HD Display</td>\n",
              "      <td>108</td>\n",
              "      <td>8</td>\n",
              "      <td>5000</td>\n",
              "      <td>10,999</td>\n",
              "    </tr>\n",
              "    <tr>\n",
              "      <th>2</th>\n",
              "      <td>vivo</td>\n",
              "      <td>t2x 5g</td>\n",
              "      <td>8</td>\n",
              "      <td>128</td>\n",
              "      <td>6.58</td>\n",
              "      <td>Full HD</td>\n",
              "      <td>50</td>\n",
              "      <td>8</td>\n",
              "      <td>5000</td>\n",
              "      <td>15,999</td>\n",
              "    </tr>\n",
              "    <tr>\n",
              "      <th>3</th>\n",
              "      <td>vivo</td>\n",
              "      <td>t2x 5g</td>\n",
              "      <td>6</td>\n",
              "      <td>128</td>\n",
              "      <td>6.58</td>\n",
              "      <td>Full HD</td>\n",
              "      <td>50</td>\n",
              "      <td>8</td>\n",
              "      <td>5000</td>\n",
              "      <td>13,999</td>\n",
              "    </tr>\n",
              "    <tr>\n",
              "      <th>4</th>\n",
              "      <td>vivo</td>\n",
              "      <td>t2x 5g</td>\n",
              "      <td>8</td>\n",
              "      <td>128</td>\n",
              "      <td>6.58</td>\n",
              "      <td>Full HD</td>\n",
              "      <td>50</td>\n",
              "      <td>8</td>\n",
              "      <td>5000</td>\n",
              "      <td>15,999</td>\n",
              "    </tr>\n",
              "  </tbody>\n",
              "</table>\n",
              "</div>"
            ],
            "text/plain": [
              "    brand    model  ram  storage  display size display type  rear camera  \\\n",
              "0  realme     c53     6       64          6.74   HD Display          108   \n",
              "1  realme     c53     6       64          6.74   HD Display          108   \n",
              "2    vivo  t2x 5g     8      128          6.58      Full HD           50   \n",
              "3    vivo  t2x 5g     6      128          6.58      Full HD           50   \n",
              "4    vivo  t2x 5g     8      128          6.58      Full HD           50   \n",
              "\n",
              "   front camera  battery   price  \n",
              "0             8     5000  10,999  \n",
              "1             8     5000  10,999  \n",
              "2             8     5000  15,999  \n",
              "3             8     5000  13,999  \n",
              "4             8     5000  15,999  "
            ]
          },
          "execution_count": 23,
          "metadata": {},
          "output_type": "execute_result"
        }
      ],
      "source": [
        "train_data['price'] = [i[1:] for i in data['price']]\n",
        "train_data.head()"
      ]
    },
    {
      "cell_type": "code",
      "execution_count": 24,
      "metadata": {
        "colab": {
          "base_uri": "https://localhost:8080/",
          "height": 423
        },
        "id": "U_LrXtf4NYeU",
        "outputId": "e7f017c8-e32d-4660-8422-7d2aa8f8d977"
      },
      "outputs": [
        {
          "data": {
            "text/html": [
              "<div>\n",
              "<style scoped>\n",
              "    .dataframe tbody tr th:only-of-type {\n",
              "        vertical-align: middle;\n",
              "    }\n",
              "\n",
              "    .dataframe tbody tr th {\n",
              "        vertical-align: top;\n",
              "    }\n",
              "\n",
              "    .dataframe thead th {\n",
              "        text-align: right;\n",
              "    }\n",
              "</style>\n",
              "<table border=\"1\" class=\"dataframe\">\n",
              "  <thead>\n",
              "    <tr style=\"text-align: right;\">\n",
              "      <th></th>\n",
              "      <th>brand</th>\n",
              "      <th>model</th>\n",
              "      <th>ram</th>\n",
              "      <th>storage</th>\n",
              "      <th>display size</th>\n",
              "      <th>display type</th>\n",
              "      <th>rear camera</th>\n",
              "      <th>front camera</th>\n",
              "      <th>battery</th>\n",
              "      <th>price</th>\n",
              "    </tr>\n",
              "  </thead>\n",
              "  <tbody>\n",
              "    <tr>\n",
              "      <th>0</th>\n",
              "      <td>realme</td>\n",
              "      <td>c53</td>\n",
              "      <td>6</td>\n",
              "      <td>64</td>\n",
              "      <td>6.74</td>\n",
              "      <td>HD Display</td>\n",
              "      <td>108</td>\n",
              "      <td>8</td>\n",
              "      <td>5000</td>\n",
              "      <td>10,999</td>\n",
              "    </tr>\n",
              "    <tr>\n",
              "      <th>2</th>\n",
              "      <td>vivo</td>\n",
              "      <td>t2x 5g</td>\n",
              "      <td>8</td>\n",
              "      <td>128</td>\n",
              "      <td>6.58</td>\n",
              "      <td>Full HD</td>\n",
              "      <td>50</td>\n",
              "      <td>8</td>\n",
              "      <td>5000</td>\n",
              "      <td>15,999</td>\n",
              "    </tr>\n",
              "    <tr>\n",
              "      <th>3</th>\n",
              "      <td>vivo</td>\n",
              "      <td>t2x 5g</td>\n",
              "      <td>6</td>\n",
              "      <td>128</td>\n",
              "      <td>6.58</td>\n",
              "      <td>Full HD</td>\n",
              "      <td>50</td>\n",
              "      <td>8</td>\n",
              "      <td>5000</td>\n",
              "      <td>13,999</td>\n",
              "    </tr>\n",
              "    <tr>\n",
              "      <th>7</th>\n",
              "      <td>vivo</td>\n",
              "      <td>t2x 5g</td>\n",
              "      <td>4</td>\n",
              "      <td>128</td>\n",
              "      <td>6.58</td>\n",
              "      <td>Full HD</td>\n",
              "      <td>50</td>\n",
              "      <td>8</td>\n",
              "      <td>5000</td>\n",
              "      <td>12,999</td>\n",
              "    </tr>\n",
              "    <tr>\n",
              "      <th>10</th>\n",
              "      <td>realme</td>\n",
              "      <td>11x 5g</td>\n",
              "      <td>6</td>\n",
              "      <td>128</td>\n",
              "      <td>6.72</td>\n",
              "      <td>Full HD</td>\n",
              "      <td>64</td>\n",
              "      <td>8</td>\n",
              "      <td>5000</td>\n",
              "      <td>14,999</td>\n",
              "    </tr>\n",
              "    <tr>\n",
              "      <th>...</th>\n",
              "      <td>...</td>\n",
              "      <td>...</td>\n",
              "      <td>...</td>\n",
              "      <td>...</td>\n",
              "      <td>...</td>\n",
              "      <td>...</td>\n",
              "      <td>...</td>\n",
              "      <td>...</td>\n",
              "      <td>...</td>\n",
              "      <td>...</td>\n",
              "    </tr>\n",
              "    <tr>\n",
              "      <th>997</th>\n",
              "      <td>redmi</td>\n",
              "      <td>note 11t 5g</td>\n",
              "      <td>6</td>\n",
              "      <td>64</td>\n",
              "      <td>6.60</td>\n",
              "      <td>Display</td>\n",
              "      <td>50</td>\n",
              "      <td>50</td>\n",
              "      <td>5000</td>\n",
              "      <td>17,490</td>\n",
              "    </tr>\n",
              "    <tr>\n",
              "      <th>1000</th>\n",
              "      <td>samsung</td>\n",
              "      <td>a04 e</td>\n",
              "      <td>3</td>\n",
              "      <td>64</td>\n",
              "      <td>6.50</td>\n",
              "      <td>HD</td>\n",
              "      <td>13</td>\n",
              "      <td>5</td>\n",
              "      <td>5000</td>\n",
              "      <td>10,600</td>\n",
              "    </tr>\n",
              "    <tr>\n",
              "      <th>1004</th>\n",
              "      <td>samsung</td>\n",
              "      <td>galaxy a13</td>\n",
              "      <td>4</td>\n",
              "      <td>64</td>\n",
              "      <td>6.60</td>\n",
              "      <td>Full HD</td>\n",
              "      <td>50</td>\n",
              "      <td>8</td>\n",
              "      <td>5000</td>\n",
              "      <td>15,900</td>\n",
              "    </tr>\n",
              "    <tr>\n",
              "      <th>1005</th>\n",
              "      <td>mi</td>\n",
              "      <td>10t pro</td>\n",
              "      <td>8</td>\n",
              "      <td>128</td>\n",
              "      <td>6.67</td>\n",
              "      <td>Full HD</td>\n",
              "      <td>108</td>\n",
              "      <td>20</td>\n",
              "      <td>5000</td>\n",
              "      <td>47,999</td>\n",
              "    </tr>\n",
              "    <tr>\n",
              "      <th>1007</th>\n",
              "      <td>motorola</td>\n",
              "      <td>edge 30 ultra</td>\n",
              "      <td>8</td>\n",
              "      <td>128</td>\n",
              "      <td>6.67</td>\n",
              "      <td>Full HD</td>\n",
              "      <td>200</td>\n",
              "      <td>60</td>\n",
              "      <td>4610</td>\n",
              "      <td>54,999</td>\n",
              "    </tr>\n",
              "  </tbody>\n",
              "</table>\n",
              "<p>600 rows × 10 columns</p>\n",
              "</div>"
            ],
            "text/plain": [
              "         brand           model  ram  storage  display size display type  \\\n",
              "0       realme            c53     6       64          6.74   HD Display   \n",
              "2         vivo         t2x 5g     8      128          6.58      Full HD   \n",
              "3         vivo         t2x 5g     6      128          6.58      Full HD   \n",
              "7         vivo         t2x 5g     4      128          6.58      Full HD   \n",
              "10      realme         11x 5g     6      128          6.72      Full HD   \n",
              "...        ...             ...  ...      ...           ...          ...   \n",
              "997      redmi    note 11t 5g     6       64          6.60      Display   \n",
              "1000   samsung          a04 e     3       64          6.50           HD   \n",
              "1004   samsung     galaxy a13     4       64          6.60      Full HD   \n",
              "1005        mi        10t pro     8      128          6.67      Full HD   \n",
              "1007  motorola  edge 30 ultra     8      128          6.67      Full HD   \n",
              "\n",
              "      rear camera  front camera  battery   price  \n",
              "0             108             8     5000  10,999  \n",
              "2              50             8     5000  15,999  \n",
              "3              50             8     5000  13,999  \n",
              "7              50             8     5000  12,999  \n",
              "10             64             8     5000  14,999  \n",
              "...           ...           ...      ...     ...  \n",
              "997            50            50     5000  17,490  \n",
              "1000           13             5     5000  10,600  \n",
              "1004           50             8     5000  15,900  \n",
              "1005          108            20     5000  47,999  \n",
              "1007          200            60     4610  54,999  \n",
              "\n",
              "[600 rows x 10 columns]"
            ]
          },
          "execution_count": 24,
          "metadata": {},
          "output_type": "execute_result"
        }
      ],
      "source": [
        "train_data.drop_duplicates(inplace=True)\n",
        "train_data"
      ]
    },
    {
      "cell_type": "code",
      "execution_count": 25,
      "metadata": {
        "colab": {
          "base_uri": "https://localhost:8080/"
        },
        "id": "IhIrvIO4PPF3",
        "outputId": "14f9dac7-c721-4b80-d28a-df9a469970b2"
      },
      "outputs": [
        {
          "name": "stdout",
          "output_type": "stream",
          "text": [
            "<class 'pandas.core.frame.DataFrame'>\n",
            "Index: 600 entries, 0 to 1007\n",
            "Data columns (total 10 columns):\n",
            " #   Column        Non-Null Count  Dtype  \n",
            "---  ------        --------------  -----  \n",
            " 0   brand         600 non-null    object \n",
            " 1   model         600 non-null    object \n",
            " 2   ram           600 non-null    int64  \n",
            " 3   storage       600 non-null    int64  \n",
            " 4   display size  600 non-null    float64\n",
            " 5   display type  600 non-null    object \n",
            " 6   rear camera   600 non-null    int64  \n",
            " 7   front camera  600 non-null    int64  \n",
            " 8   battery       600 non-null    int64  \n",
            " 9   price         600 non-null    object \n",
            "dtypes: float64(1), int64(5), object(4)\n",
            "memory usage: 51.6+ KB\n"
          ]
        }
      ],
      "source": [
        "train_data.info()"
      ]
    },
    {
      "cell_type": "markdown",
      "metadata": {
        "id": "5xNvxQBoq_v0"
      },
      "source": [
        "# EDA"
      ]
    },
    {
      "cell_type": "markdown",
      "metadata": {
        "id": "b9-FjnxIrFYf"
      },
      "source": [
        "## univariate"
      ]
    },
    {
      "cell_type": "code",
      "execution_count": 26,
      "metadata": {
        "id": "-DUBLcebedK3"
      },
      "outputs": [],
      "source": [
        "train_data['price'] = [p.replace(',','') for p in train_data['price']]"
      ]
    },
    {
      "cell_type": "code",
      "execution_count": 27,
      "metadata": {
        "id": "DU8Z8JdsgiLw"
      },
      "outputs": [],
      "source": [
        "train_data.drop([466,790],axis=0, inplace=True)"
      ]
    },
    {
      "cell_type": "code",
      "execution_count": 28,
      "metadata": {
        "colab": {
          "base_uri": "https://localhost:8080/",
          "height": 53
        },
        "id": "pMrYWgWGf_bB",
        "outputId": "4208770e-3db0-4b6d-b277-02ec617a4020"
      },
      "outputs": [
        {
          "data": {
            "text/html": [
              "<div>\n",
              "<style scoped>\n",
              "    .dataframe tbody tr th:only-of-type {\n",
              "        vertical-align: middle;\n",
              "    }\n",
              "\n",
              "    .dataframe tbody tr th {\n",
              "        vertical-align: top;\n",
              "    }\n",
              "\n",
              "    .dataframe thead th {\n",
              "        text-align: right;\n",
              "    }\n",
              "</style>\n",
              "<table border=\"1\" class=\"dataframe\">\n",
              "  <thead>\n",
              "    <tr style=\"text-align: right;\">\n",
              "      <th></th>\n",
              "      <th>brand</th>\n",
              "      <th>model</th>\n",
              "      <th>ram</th>\n",
              "      <th>storage</th>\n",
              "      <th>display size</th>\n",
              "      <th>display type</th>\n",
              "      <th>rear camera</th>\n",
              "      <th>front camera</th>\n",
              "      <th>battery</th>\n",
              "      <th>price</th>\n",
              "    </tr>\n",
              "  </thead>\n",
              "  <tbody>\n",
              "  </tbody>\n",
              "</table>\n",
              "</div>"
            ],
            "text/plain": [
              "Empty DataFrame\n",
              "Columns: [brand, model, ram, storage, display size, display type, rear camera, front camera, battery, price]\n",
              "Index: []"
            ]
          },
          "execution_count": 28,
          "metadata": {},
          "output_type": "execute_result"
        }
      ],
      "source": [
        "train_data[train_data['price']=='a']"
      ]
    },
    {
      "cell_type": "code",
      "execution_count": 29,
      "metadata": {
        "id": "InuXN1c_hEi1"
      },
      "outputs": [],
      "source": [
        "train_data['price'] = train_data['price'].astype('int64')"
      ]
    },
    {
      "cell_type": "code",
      "execution_count": 30,
      "metadata": {
        "colab": {
          "base_uri": "https://localhost:8080/"
        },
        "id": "OOeN0QRb5R0M",
        "outputId": "50259648-c0b5-4f0e-99f0-8c3c51d1a3ba"
      },
      "outputs": [
        {
          "data": {
            "text/plain": [
              "array(['realme', 'vivo', 'motorola', 'samsung', 'redmi', 'poco', 'google',\n",
              "       'infinix', 'iqoo', 'oppo', 'xiaomi', 'nothing', 'mi', 'note',\n",
              "       'moto'], dtype=object)"
            ]
          },
          "execution_count": 30,
          "metadata": {},
          "output_type": "execute_result"
        }
      ],
      "source": [
        "train_data['brand'].unique()"
      ]
    },
    {
      "cell_type": "code",
      "execution_count": 31,
      "metadata": {
        "id": "yYhsrhpL4IeE"
      },
      "outputs": [],
      "source": [
        "train_data['brand'] = train_data['brand'].replace({'mi':'xiaomi', 'note':'redmi'})"
      ]
    },
    {
      "cell_type": "code",
      "execution_count": 32,
      "metadata": {
        "colab": {
          "base_uri": "https://localhost:8080/",
          "height": 206
        },
        "id": "Ohz9W8n--Hkh",
        "outputId": "e928eb72-24ee-4ae5-81fc-f9518d650ec6"
      },
      "outputs": [
        {
          "data": {
            "text/html": [
              "<div>\n",
              "<style scoped>\n",
              "    .dataframe tbody tr th:only-of-type {\n",
              "        vertical-align: middle;\n",
              "    }\n",
              "\n",
              "    .dataframe tbody tr th {\n",
              "        vertical-align: top;\n",
              "    }\n",
              "\n",
              "    .dataframe thead th {\n",
              "        text-align: right;\n",
              "    }\n",
              "</style>\n",
              "<table border=\"1\" class=\"dataframe\">\n",
              "  <thead>\n",
              "    <tr style=\"text-align: right;\">\n",
              "      <th></th>\n",
              "      <th>brand</th>\n",
              "      <th>model</th>\n",
              "      <th>ram</th>\n",
              "      <th>storage</th>\n",
              "      <th>display size</th>\n",
              "      <th>display type</th>\n",
              "      <th>rear camera</th>\n",
              "      <th>front camera</th>\n",
              "      <th>battery</th>\n",
              "      <th>price</th>\n",
              "    </tr>\n",
              "  </thead>\n",
              "  <tbody>\n",
              "    <tr>\n",
              "      <th>0</th>\n",
              "      <td>realme</td>\n",
              "      <td>c53</td>\n",
              "      <td>6</td>\n",
              "      <td>64</td>\n",
              "      <td>6.74</td>\n",
              "      <td>HD Display</td>\n",
              "      <td>108</td>\n",
              "      <td>8</td>\n",
              "      <td>5000</td>\n",
              "      <td>10999</td>\n",
              "    </tr>\n",
              "    <tr>\n",
              "      <th>2</th>\n",
              "      <td>vivo</td>\n",
              "      <td>t2x 5g</td>\n",
              "      <td>8</td>\n",
              "      <td>128</td>\n",
              "      <td>6.58</td>\n",
              "      <td>Full HD</td>\n",
              "      <td>50</td>\n",
              "      <td>8</td>\n",
              "      <td>5000</td>\n",
              "      <td>15999</td>\n",
              "    </tr>\n",
              "    <tr>\n",
              "      <th>3</th>\n",
              "      <td>vivo</td>\n",
              "      <td>t2x 5g</td>\n",
              "      <td>6</td>\n",
              "      <td>128</td>\n",
              "      <td>6.58</td>\n",
              "      <td>Full HD</td>\n",
              "      <td>50</td>\n",
              "      <td>8</td>\n",
              "      <td>5000</td>\n",
              "      <td>13999</td>\n",
              "    </tr>\n",
              "    <tr>\n",
              "      <th>7</th>\n",
              "      <td>vivo</td>\n",
              "      <td>t2x 5g</td>\n",
              "      <td>4</td>\n",
              "      <td>128</td>\n",
              "      <td>6.58</td>\n",
              "      <td>Full HD</td>\n",
              "      <td>50</td>\n",
              "      <td>8</td>\n",
              "      <td>5000</td>\n",
              "      <td>12999</td>\n",
              "    </tr>\n",
              "    <tr>\n",
              "      <th>10</th>\n",
              "      <td>realme</td>\n",
              "      <td>11x 5g</td>\n",
              "      <td>6</td>\n",
              "      <td>128</td>\n",
              "      <td>6.72</td>\n",
              "      <td>Full HD</td>\n",
              "      <td>64</td>\n",
              "      <td>8</td>\n",
              "      <td>5000</td>\n",
              "      <td>14999</td>\n",
              "    </tr>\n",
              "  </tbody>\n",
              "</table>\n",
              "</div>"
            ],
            "text/plain": [
              "     brand    model  ram  storage  display size display type  rear camera  \\\n",
              "0   realme     c53     6       64          6.74   HD Display          108   \n",
              "2     vivo  t2x 5g     8      128          6.58      Full HD           50   \n",
              "3     vivo  t2x 5g     6      128          6.58      Full HD           50   \n",
              "7     vivo  t2x 5g     4      128          6.58      Full HD           50   \n",
              "10  realme  11x 5g     6      128          6.72      Full HD           64   \n",
              "\n",
              "    front camera  battery  price  \n",
              "0              8     5000  10999  \n",
              "2              8     5000  15999  \n",
              "3              8     5000  13999  \n",
              "7              8     5000  12999  \n",
              "10             8     5000  14999  "
            ]
          },
          "execution_count": 32,
          "metadata": {},
          "output_type": "execute_result"
        }
      ],
      "source": [
        "train_data.head()"
      ]
    },
    {
      "cell_type": "code",
      "execution_count": 33,
      "metadata": {
        "colab": {
          "base_uri": "https://localhost:8080/"
        },
        "id": "zsNFYzrxeYnX",
        "outputId": "10f428ca-5ed9-4fca-9751-16d3301fe970"
      },
      "outputs": [
        {
          "name": "stdout",
          "output_type": "stream",
          "text": [
            "<class 'pandas.core.frame.DataFrame'>\n",
            "Index: 598 entries, 0 to 1007\n",
            "Data columns (total 10 columns):\n",
            " #   Column        Non-Null Count  Dtype  \n",
            "---  ------        --------------  -----  \n",
            " 0   brand         598 non-null    object \n",
            " 1   model         598 non-null    object \n",
            " 2   ram           598 non-null    int64  \n",
            " 3   storage       598 non-null    int64  \n",
            " 4   display size  598 non-null    float64\n",
            " 5   display type  598 non-null    object \n",
            " 6   rear camera   598 non-null    int64  \n",
            " 7   front camera  598 non-null    int64  \n",
            " 8   battery       598 non-null    int64  \n",
            " 9   price         598 non-null    int64  \n",
            "dtypes: float64(1), int64(6), object(3)\n",
            "memory usage: 51.4+ KB\n"
          ]
        }
      ],
      "source": [
        "train_data.info()"
      ]
    },
    {
      "cell_type": "code",
      "execution_count": 34,
      "metadata": {
        "colab": {
          "base_uri": "https://localhost:8080/",
          "height": 143
        },
        "id": "ERQjirSytYcd",
        "outputId": "af9bb917-8659-4aad-8b38-81ab3dc9b12f"
      },
      "outputs": [
        {
          "data": {
            "text/html": [
              "<div>\n",
              "<style scoped>\n",
              "    .dataframe tbody tr th:only-of-type {\n",
              "        vertical-align: middle;\n",
              "    }\n",
              "\n",
              "    .dataframe tbody tr th {\n",
              "        vertical-align: top;\n",
              "    }\n",
              "\n",
              "    .dataframe thead th {\n",
              "        text-align: right;\n",
              "    }\n",
              "</style>\n",
              "<table border=\"1\" class=\"dataframe\">\n",
              "  <thead>\n",
              "    <tr style=\"text-align: right;\">\n",
              "      <th></th>\n",
              "      <th>brand</th>\n",
              "      <th>model</th>\n",
              "      <th>ram</th>\n",
              "      <th>storage</th>\n",
              "      <th>display size</th>\n",
              "      <th>display type</th>\n",
              "      <th>rear camera</th>\n",
              "      <th>front camera</th>\n",
              "      <th>battery</th>\n",
              "      <th>price</th>\n",
              "    </tr>\n",
              "  </thead>\n",
              "  <tbody>\n",
              "    <tr>\n",
              "      <th>261</th>\n",
              "      <td>redmi</td>\n",
              "      <td>12c</td>\n",
              "      <td>128</td>\n",
              "      <td>6</td>\n",
              "      <td>6.71</td>\n",
              "      <td>Display</td>\n",
              "      <td>50</td>\n",
              "      <td>50</td>\n",
              "      <td>5000</td>\n",
              "      <td>10490</td>\n",
              "    </tr>\n",
              "    <tr>\n",
              "      <th>267</th>\n",
              "      <td>redmi</td>\n",
              "      <td>12c</td>\n",
              "      <td>128</td>\n",
              "      <td>6</td>\n",
              "      <td>6.71</td>\n",
              "      <td>Display</td>\n",
              "      <td>50</td>\n",
              "      <td>50</td>\n",
              "      <td>5000</td>\n",
              "      <td>10650</td>\n",
              "    </tr>\n",
              "    <tr>\n",
              "      <th>701</th>\n",
              "      <td>redmi</td>\n",
              "      <td>12c</td>\n",
              "      <td>128</td>\n",
              "      <td>6</td>\n",
              "      <td>6.71</td>\n",
              "      <td>Display</td>\n",
              "      <td>50</td>\n",
              "      <td>50</td>\n",
              "      <td>5000</td>\n",
              "      <td>11999</td>\n",
              "    </tr>\n",
              "  </tbody>\n",
              "</table>\n",
              "</div>"
            ],
            "text/plain": [
              "     brand model  ram  storage  display size display type  rear camera  \\\n",
              "261  redmi  12c   128        6          6.71      Display           50   \n",
              "267  redmi  12c   128        6          6.71      Display           50   \n",
              "701  redmi  12c   128        6          6.71      Display           50   \n",
              "\n",
              "     front camera  battery  price  \n",
              "261            50     5000  10490  \n",
              "267            50     5000  10650  \n",
              "701            50     5000  11999  "
            ]
          },
          "execution_count": 34,
          "metadata": {},
          "output_type": "execute_result"
        }
      ],
      "source": [
        "train_data[train_data['ram']==128]"
      ]
    },
    {
      "cell_type": "markdown",
      "metadata": {
        "id": "2JovyKeB9clV"
      },
      "source": [
        "There is an error in Ram and storage for this particaular model"
      ]
    },
    {
      "cell_type": "code",
      "execution_count": 35,
      "metadata": {
        "id": "1LlT4b3JuHfk"
      },
      "outputs": [],
      "source": [
        "train_data['ram'] = train_data['ram'].replace(128,6)\n",
        "train_data['storage'] = train_data['storage'].replace(6,128)"
      ]
    },
    {
      "cell_type": "code",
      "execution_count": 36,
      "metadata": {},
      "outputs": [
        {
          "name": "stdout",
          "output_type": "stream",
          "text": [
            "brand\n",
            "google      47749.000000\n",
            "nothing     38819.000000\n",
            "iqoo        27721.650000\n",
            "xiaomi      26341.433333\n",
            "samsung     25484.504202\n",
            "vivo        23463.044944\n",
            "oppo        22706.622222\n",
            "moto        20499.000000\n",
            "motorola    20221.916667\n",
            "poco        17404.750000\n",
            "realme      17396.571429\n",
            "infinix     16127.040000\n",
            "redmi       14884.322034\n",
            "Name: price, dtype: float64\n"
          ]
        }
      ],
      "source": [
        "import pandas as pd\n",
        "\n",
        "# Assuming train_data is your DataFrame\n",
        "\n",
        "# Convert 'price' to numeric, setting errors to 'coerce' to handle non-numeric values\n",
        "train_data['price'] = pd.to_numeric(train_data['price'], errors='coerce')\n",
        "\n",
        "# Drop rows with NaN in 'price'\n",
        "train_data = train_data.dropna(subset=['price'])\n",
        "\n",
        "# Group by 'brand' and calculate the mean of 'price'\n",
        "brand_avg_price = train_data.groupby(['brand'])['price'].mean()\n",
        "\n",
        "# Sort the average prices in descending order\n",
        "brand_avg_price = brand_avg_price.sort_values(ascending=False)\n",
        "\n",
        "print(brand_avg_price)\n"
      ]
    },
    {
      "cell_type": "code",
      "execution_count": 37,
      "metadata": {
        "colab": {
          "base_uri": "https://localhost:8080/",
          "height": 639
        },
        "id": "XQRJ8i-9xjNO",
        "outputId": "e5cefa73-b196-4f2b-e066-d4375f65bb8e"
      },
      "outputs": [
        {
          "name": "stderr",
          "output_type": "stream",
          "text": [
            "/var/folders/50/1jxnmv8527s4kzh8dm8ky6mh0000gn/T/ipykernel_90911/215179023.py:7: UserWarning: set_ticklabels() should only be used with a fixed number of ticks, i.e. after set_ticks() or using a FixedLocator.\n",
            "  ax.set_xticklabels(labels=brand_avg_price.index,rotation=45)\n"
          ]
        },
        {
          "data": {
            "image/png": "[encoded data removed]",
            "text/plain": [
              "<Figure size 800x600 with 1 Axes>"
            ]
          },
          "metadata": {},
          "output_type": "display_data"
        }
      ],
      "source": [
        "import matplotlib.pyplot as plt\n",
        "\n",
        "fig = plt.figure(figsize=(8,6))\n",
        "\n",
        "ax = fig.add_subplot(111)\n",
        "plt.bar(brand_avg_price.index, brand_avg_price, label=brand_avg_price.index)\n",
        "ax.set_xticklabels(labels=brand_avg_price.index,rotation=45)\n",
        "plt.title('Average price by brands')\n",
        "plt.xlabel('brands')\n",
        "plt.ylabel('price')\n",
        "plt.show()"
      ]
    },
    {
      "cell_type": "markdown",
      "metadata": {
        "id": "LJrW32Itl3NY"
      },
      "source": [
        "As we can see some of the brands like Google, nothing , xiomi are more expensive than other brand mobiles.\n",
        "\n",
        "Note : I have cherry picked only few mobile brands for this practice project"
      ]
    },
    {
      "cell_type": "code",
      "execution_count": 38,
      "metadata": {
        "id": "fcqo-N_L-tZc"
      },
      "outputs": [],
      "source": [
        "ram_avg_price = train_data[['ram', 'price']]"
      ]
    },
    {
      "cell_type": "code",
      "execution_count": 39,
      "metadata": {
        "colab": {
          "base_uri": "https://localhost:8080/"
        },
        "id": "SP7pjnz4_CP_",
        "outputId": "1928a71d-240d-422c-b997-673ac1c23b1b"
      },
      "outputs": [
        {
          "name": "stdout",
          "output_type": "stream",
          "text": [
            "<class 'pandas.core.frame.DataFrame'>\n",
            "Index: 598 entries, 0 to 1007\n",
            "Data columns (total 2 columns):\n",
            " #   Column  Non-Null Count  Dtype\n",
            "---  ------  --------------  -----\n",
            " 0   ram     598 non-null    int64\n",
            " 1   price   598 non-null    int64\n",
            "dtypes: int64(2)\n",
            "memory usage: 14.0 KB\n"
          ]
        }
      ],
      "source": [
        "ram_avg_price.info()"
      ]
    },
    {
      "cell_type": "code",
      "execution_count": 40,
      "metadata": {
        "colab": {
          "base_uri": "https://localhost:8080/"
        },
        "id": "DU7B_xGm7Oo7",
        "outputId": "65a41988-205e-4832-f865-b80355c16f67"
      },
      "outputs": [
        {
          "data": {
            "text/plain": [
              "ram\n",
              "12    44669.619048\n",
              "8     28156.565000\n",
              "6     16404.652695\n",
              "4     12625.474359\n",
              "3     11556.851852\n",
              "2     10897.500000\n",
              "Name: price, dtype: float64"
            ]
          },
          "execution_count": 40,
          "metadata": {},
          "output_type": "execute_result"
        }
      ],
      "source": [
        "ram_avg_price = ram_avg_price.groupby(['ram']).mean()['price']\n",
        "ram_avg_price = ram_avg_price.sort_values(ascending=False)\n",
        "ram_avg_price"
      ]
    },
    {
      "cell_type": "code",
      "execution_count": 41,
      "metadata": {
        "colab": {
          "base_uri": "https://localhost:8080/",
          "height": 564
        },
        "id": "UB70qprN7gq1",
        "outputId": "a67fce40-f0d0-49c1-ef6a-5e579e1d4e10"
      },
      "outputs": [
        {
          "data": {
            "image/png": "[encoded data removed]",
            "text/plain": [
              "<Figure size 1200x600 with 1 Axes>"
            ]
          },
          "metadata": {},
          "output_type": "display_data"
        }
      ],
      "source": [
        "import matplotlib.pyplot as plt\n",
        "\n",
        "fig1 = plt.figure(figsize=(12,6))\n",
        "plt.subplot(1, 2, 1)\n",
        "plt.plot(ram_avg_price.index, ram_avg_price)\n",
        "plt.title('Average price by Ram')\n",
        "plt.xlabel('Ram')\n",
        "plt.ylabel('Price')\n",
        "plt.show()"
      ]
    },
    {
      "cell_type": "markdown",
      "metadata": {
        "id": "iGa9kawhnBjl"
      },
      "source": [
        "As we can clearly see the higher the RAM higher the price of the mobile, except for the 128gb which might be an outlier."
      ]
    },
    {
      "cell_type": "code",
      "execution_count": 42,
      "metadata": {
        "id": "oEhkTJRDmwkw"
      },
      "outputs": [],
      "source": [
        "storage_avg_price = train_data[['storage', 'price']]"
      ]
    },
    {
      "cell_type": "code",
      "execution_count": 43,
      "metadata": {
        "colab": {
          "base_uri": "https://localhost:8080/"
        },
        "id": "R9RZEgo-ncoo",
        "outputId": "67b717e8-cb64-45f3-a44b-a5adbe5af9ef"
      },
      "outputs": [
        {
          "data": {
            "text/plain": [
              "storage\n",
              "512    89999.000000\n",
              "256    37788.895349\n",
              "128    20590.955224\n",
              "64     12637.587097\n",
              "32     11440.526316\n",
              "Name: price, dtype: float64"
            ]
          },
          "execution_count": 43,
          "metadata": {},
          "output_type": "execute_result"
        }
      ],
      "source": [
        "storage_avg_price = storage_avg_price.groupby(['storage']).mean()['price']\n",
        "storage_avg_price = storage_avg_price.sort_values(ascending=False)\n",
        "storage_avg_price"
      ]
    },
    {
      "cell_type": "code",
      "execution_count": 44,
      "metadata": {
        "colab": {
          "base_uri": "https://localhost:8080/",
          "height": 564
        },
        "id": "GXm3t8_rnoJ2",
        "outputId": "1166bfa9-d71c-45a2-c184-4c3875ff5415"
      },
      "outputs": [
        {
          "data": {
            "image/png": "[encoded data removed]",
            "text/plain": [
              "<Figure size 1000x600 with 1 Axes>"
            ]
          },
          "metadata": {},
          "output_type": "display_data"
        }
      ],
      "source": [
        "import matplotlib.pyplot as plt\n",
        "\n",
        "fig1 = plt.figure(figsize=(10,6))\n",
        "\n",
        "ax1 = fig.add_subplot(111)\n",
        "plt.plot(storage_avg_price.index, storage_avg_price)\n",
        "plt.title('Average price by Storage')\n",
        "plt.xlabel('Storage')\n",
        "plt.ylabel('Price')\n",
        "plt.show()"
      ]
    },
    {
      "cell_type": "markdown",
      "metadata": {
        "id": "cI3wJ6Qm9riH"
      },
      "source": [
        "There is a clear linear realtion between storage and average price of the mobiles."
      ]
    },
    {
      "cell_type": "code",
      "execution_count": 45,
      "metadata": {
        "colab": {
          "base_uri": "https://localhost:8080/",
          "height": 206
        },
        "id": "Z2Mm-VVAoLn5",
        "outputId": "cb117cff-52ee-4dc5-a049-04ee7af3d75d"
      },
      "outputs": [
        {
          "data": {
            "text/html": [
              "<div>\n",
              "<style scoped>\n",
              "    .dataframe tbody tr th:only-of-type {\n",
              "        vertical-align: middle;\n",
              "    }\n",
              "\n",
              "    .dataframe tbody tr th {\n",
              "        vertical-align: top;\n",
              "    }\n",
              "\n",
              "    .dataframe thead th {\n",
              "        text-align: right;\n",
              "    }\n",
              "</style>\n",
              "<table border=\"1\" class=\"dataframe\">\n",
              "  <thead>\n",
              "    <tr style=\"text-align: right;\">\n",
              "      <th></th>\n",
              "      <th>brand</th>\n",
              "      <th>model</th>\n",
              "      <th>ram</th>\n",
              "      <th>storage</th>\n",
              "      <th>display size</th>\n",
              "      <th>display type</th>\n",
              "      <th>rear camera</th>\n",
              "      <th>front camera</th>\n",
              "      <th>battery</th>\n",
              "      <th>price</th>\n",
              "    </tr>\n",
              "  </thead>\n",
              "  <tbody>\n",
              "    <tr>\n",
              "      <th>0</th>\n",
              "      <td>realme</td>\n",
              "      <td>c53</td>\n",
              "      <td>6</td>\n",
              "      <td>64</td>\n",
              "      <td>6.74</td>\n",
              "      <td>HD Display</td>\n",
              "      <td>108</td>\n",
              "      <td>8</td>\n",
              "      <td>5000</td>\n",
              "      <td>10999</td>\n",
              "    </tr>\n",
              "    <tr>\n",
              "      <th>2</th>\n",
              "      <td>vivo</td>\n",
              "      <td>t2x 5g</td>\n",
              "      <td>8</td>\n",
              "      <td>128</td>\n",
              "      <td>6.58</td>\n",
              "      <td>Full HD</td>\n",
              "      <td>50</td>\n",
              "      <td>8</td>\n",
              "      <td>5000</td>\n",
              "      <td>15999</td>\n",
              "    </tr>\n",
              "    <tr>\n",
              "      <th>3</th>\n",
              "      <td>vivo</td>\n",
              "      <td>t2x 5g</td>\n",
              "      <td>6</td>\n",
              "      <td>128</td>\n",
              "      <td>6.58</td>\n",
              "      <td>Full HD</td>\n",
              "      <td>50</td>\n",
              "      <td>8</td>\n",
              "      <td>5000</td>\n",
              "      <td>13999</td>\n",
              "    </tr>\n",
              "    <tr>\n",
              "      <th>7</th>\n",
              "      <td>vivo</td>\n",
              "      <td>t2x 5g</td>\n",
              "      <td>4</td>\n",
              "      <td>128</td>\n",
              "      <td>6.58</td>\n",
              "      <td>Full HD</td>\n",
              "      <td>50</td>\n",
              "      <td>8</td>\n",
              "      <td>5000</td>\n",
              "      <td>12999</td>\n",
              "    </tr>\n",
              "    <tr>\n",
              "      <th>10</th>\n",
              "      <td>realme</td>\n",
              "      <td>11x 5g</td>\n",
              "      <td>6</td>\n",
              "      <td>128</td>\n",
              "      <td>6.72</td>\n",
              "      <td>Full HD</td>\n",
              "      <td>64</td>\n",
              "      <td>8</td>\n",
              "      <td>5000</td>\n",
              "      <td>14999</td>\n",
              "    </tr>\n",
              "  </tbody>\n",
              "</table>\n",
              "</div>"
            ],
            "text/plain": [
              "     brand    model  ram  storage  display size display type  rear camera  \\\n",
              "0   realme     c53     6       64          6.74   HD Display          108   \n",
              "2     vivo  t2x 5g     8      128          6.58      Full HD           50   \n",
              "3     vivo  t2x 5g     6      128          6.58      Full HD           50   \n",
              "7     vivo  t2x 5g     4      128          6.58      Full HD           50   \n",
              "10  realme  11x 5g     6      128          6.72      Full HD           64   \n",
              "\n",
              "    front camera  battery  price  \n",
              "0              8     5000  10999  \n",
              "2              8     5000  15999  \n",
              "3              8     5000  13999  \n",
              "7              8     5000  12999  \n",
              "10             8     5000  14999  "
            ]
          },
          "execution_count": 45,
          "metadata": {},
          "output_type": "execute_result"
        }
      ],
      "source": [
        "train_data.head()"
      ]
    },
    {
      "cell_type": "code",
      "execution_count": 46,
      "metadata": {
        "colab": {
          "base_uri": "https://localhost:8080/",
          "height": 428
        },
        "id": "t9rQx4Ib-14i",
        "outputId": "2aebb08a-2619-4843-dff7-2649b5e80632"
      },
      "outputs": [
        {
          "data": {
            "text/plain": [
              "<Axes: ylabel='display size'>"
            ]
          },
          "execution_count": 46,
          "metadata": {},
          "output_type": "execute_result"
        },
        {
          "data": {
            "image/png": "[encoded data removed]",
            "text/plain": [
              "<Figure size 640x480 with 1 Axes>"
            ]
          },
          "metadata": {},
          "output_type": "display_data"
        }
      ],
      "source": [
        "sns.boxplot(train_data['display size'])"
      ]
    },
    {
      "cell_type": "markdown",
      "metadata": {
        "id": "eKm7kPefEaGj"
      },
      "source": [
        "We need to remove the outliers in this column"
      ]
    },
    {
      "cell_type": "code",
      "execution_count": 49,
      "metadata": {
        "id": "EYjxUVN3-5n1"
      },
      "outputs": [],
      "source": [
        "from scipy.stats import iqr\n",
        "\n",
        "# Calculate the interquartile range (IQR) using the 25th and 75th percentiles\n",
        "IQR = iqr(train_data['display size'])\n",
        "\n",
        "# Calculate the lower bound and upper bound\n",
        "lower_bound = np.percentile(train_data['display size'], 25) - 1.5 * IQR\n",
        "upper_bound = np.percentile(train_data['display size'], 75) + 1.5 * IQR\n",
        "\n",
        "dsp_list = []\n",
        "for i in range(len(train_data['display size'])):\n",
        "  if list(train_data['display size'])[i] > upper_bound:\n",
        "    dsp_list.append(upper_bound)\n",
        "  elif list(train_data['display size'])[i] < lower_bound:\n",
        "    dsp_list.append(lower_bound)\n",
        "  else:\n",
        "    dsp_list.append(list(train_data['display size'])[i])\n",
        "\n",
        "train_data['display size'] = dsp_list\n"
      ]
    },
    {
      "cell_type": "code",
      "execution_count": 50,
      "metadata": {
        "colab": {
          "base_uri": "https://localhost:8080/",
          "height": 428
        },
        "id": "savz5VeaC85p",
        "outputId": "7fdcd22a-21ee-4997-b90d-f5b38a38be75"
      },
      "outputs": [
        {
          "data": {
            "text/plain": [
              "<Axes: ylabel='display size'>"
            ]
          },
          "execution_count": 50,
          "metadata": {},
          "output_type": "execute_result"
        },
        {
          "data": {
            "image/png": "[encoded data removed]",
            "text/plain": [
              "<Figure size 640x480 with 1 Axes>"
            ]
          },
          "metadata": {},
          "output_type": "display_data"
        }
      ],
      "source": [
        "sns.boxplot(train_data['display size'])"
      ]
    },
    {
      "cell_type": "code",
      "execution_count": 51,
      "metadata": {
        "colab": {
          "base_uri": "https://localhost:8080/",
          "height": 466
        },
        "id": "MIRWfeSbC82H",
        "outputId": "eb75bd0a-d3a3-4dd1-8a85-1419e8855d6a"
      },
      "outputs": [
        {
          "data": {
            "text/plain": [
              "<Axes: xlabel='display size', ylabel='price'>"
            ]
          },
          "execution_count": 51,
          "metadata": {},
          "output_type": "execute_result"
        },
        {
          "data": {
            "image/png": "[encoded data removed]",
            "text/plain": [
              "<Figure size 640x480 with 1 Axes>"
            ]
          },
          "metadata": {},
          "output_type": "display_data"
        }
      ],
      "source": [
        "sns.scatterplot(x=train_data['display size'], y=train_data['price'])"
      ]
    },
    {
      "cell_type": "markdown",
      "metadata": {
        "id": "IZ0_9hI-FAo_"
      },
      "source": [
        "There is no definite relation between price and display size column"
      ]
    },
    {
      "cell_type": "code",
      "execution_count": 52,
      "metadata": {
        "colab": {
          "base_uri": "https://localhost:8080/"
        },
        "id": "PflsBlR1FAS_",
        "outputId": "bcce70a0-63bb-442e-af56-ae96ad59bd5b"
      },
      "outputs": [
        {
          "data": {
            "text/plain": [
              "display type\n",
              "Full HD            322\n",
              "Display            171\n",
              "HD                  90\n",
              "Full HD Display      7\n",
              "Quad HD              4\n",
              "HD Display           3\n",
              "Quad HD Display      1\n",
              "Name: count, dtype: int64"
            ]
          },
          "execution_count": 52,
          "metadata": {},
          "output_type": "execute_result"
        }
      ],
      "source": [
        "train_data['display type'].value_counts()"
      ]
    },
    {
      "cell_type": "code",
      "execution_count": 53,
      "metadata": {
        "id": "sy5CxsvYFAPj"
      },
      "outputs": [],
      "source": [
        "train_data['display type'] = train_data['display type'].replace({'Full HD Display':'Full HD', 'HD Display':'HD', 'Quad HD Display':'Quad HD'})"
      ]
    },
    {
      "cell_type": "code",
      "execution_count": 54,
      "metadata": {
        "colab": {
          "base_uri": "https://localhost:8080/"
        },
        "id": "kR4mWE2fFu6b",
        "outputId": "91e1fcac-990c-4f07-c9eb-3a971bfedd99"
      },
      "outputs": [
        {
          "data": {
            "text/plain": [
              "display type\n",
              "Full HD    329\n",
              "Display    171\n",
              "HD          93\n",
              "Quad HD      5\n",
              "Name: count, dtype: int64"
            ]
          },
          "execution_count": 54,
          "metadata": {},
          "output_type": "execute_result"
        }
      ],
      "source": [
        "train_data['display type'].value_counts()"
      ]
    },
    {
      "cell_type": "code",
      "execution_count": 55,
      "metadata": {
        "id": "YKJkLb1DGX_E"
      },
      "outputs": [],
      "source": [
        "display_type_avg_price = train_data[['display type', 'price']]"
      ]
    },
    {
      "cell_type": "code",
      "execution_count": 56,
      "metadata": {
        "colab": {
          "base_uri": "https://localhost:8080/"
        },
        "id": "XIOXmyPgGX_F",
        "outputId": "861f1d4f-fa74-4592-ded2-6be22a09c98b"
      },
      "outputs": [
        {
          "data": {
            "text/plain": [
              "display type\n",
              "Quad HD    93299.200000\n",
              "Full HD    24030.765957\n",
              "Display    18009.631579\n",
              "HD         12276.806452\n",
              "Name: price, dtype: float64"
            ]
          },
          "execution_count": 56,
          "metadata": {},
          "output_type": "execute_result"
        }
      ],
      "source": [
        "display_type_avg_price = display_type_avg_price.groupby(['display type']).mean()['price']\n",
        "display_type_avg_price = display_type_avg_price.sort_values(ascending=False)\n",
        "display_type_avg_price"
      ]
    },
    {
      "cell_type": "code",
      "execution_count": 57,
      "metadata": {
        "colab": {
          "base_uri": "https://localhost:8080/",
          "height": 564
        },
        "id": "uEZ6NwiaC8zU",
        "outputId": "c8aaf3ef-7810-4066-f10a-b6483710e7e2"
      },
      "outputs": [
        {
          "data": {
            "image/png": "[encoded data removed]",
            "text/plain": [
              "<Figure size 800x600 with 1 Axes>"
            ]
          },
          "metadata": {},
          "output_type": "display_data"
        }
      ],
      "source": [
        "fig3 = plt.figure(figsize=(8,6))\n",
        "\n",
        "ax3 = fig3.add_subplot(111)\n",
        "plt.bar(display_type_avg_price.index, display_type_avg_price, label=display_type_avg_price.index)\n",
        "plt.title('Average price by display type')\n",
        "plt.xlabel('Display type')\n",
        "plt.ylabel('Price')\n",
        "plt.show()"
      ]
    },
    {
      "cell_type": "markdown",
      "metadata": {
        "id": "zRRliPx1HFQF"
      },
      "source": [
        "\n",
        "*   Here Display includes mobiles for which we do not have the info about resoluton\n",
        "*   Resolution of Display has a good relation with price.\n",
        "\n"
      ]
    },
    {
      "cell_type": "code",
      "execution_count": 58,
      "metadata": {
        "colab": {
          "base_uri": "https://localhost:8080/"
        },
        "id": "etWN6fRdHDau",
        "outputId": "93526bf1-0d88-4ad6-dfd6-d66921eff1b6"
      },
      "outputs": [
        {
          "data": {
            "text/plain": [
              "rear camera\n",
              "50     244\n",
              "64     127\n",
              "48      73\n",
              "13      57\n",
              "108     49\n",
              "8       17\n",
              "12      12\n",
              "200      8\n",
              "100      5\n",
              "5        4\n",
              "16       2\n",
              "Name: count, dtype: int64"
            ]
          },
          "execution_count": 58,
          "metadata": {},
          "output_type": "execute_result"
        }
      ],
      "source": [
        "train_data['rear camera'].value_counts()"
      ]
    },
    {
      "cell_type": "code",
      "execution_count": 59,
      "metadata": {
        "colab": {
          "base_uri": "https://localhost:8080/"
        },
        "id": "tThMMXLuIFk_",
        "outputId": "e3ded364-7269-49ae-9715-c61b7734d0ad"
      },
      "outputs": [
        {
          "data": {
            "text/plain": [
              "rear camera\n",
              "200    58286.500000\n",
              "12     51005.000000\n",
              "100    25550.600000\n",
              "108    25462.204082\n",
              "64     22917.968504\n",
              "50     20655.512295\n",
              "48     16978.589041\n",
              "5      14770.250000\n",
              "16     13994.500000\n",
              "13     11768.368421\n",
              "8      11319.058824\n",
              "Name: price, dtype: float64"
            ]
          },
          "execution_count": 59,
          "metadata": {},
          "output_type": "execute_result"
        }
      ],
      "source": [
        "rear_camera_avg_price = train_data[['rear camera', 'price']]\n",
        "\n",
        "rear_camera_avg_price = rear_camera_avg_price.groupby(['rear camera']).mean()['price']\n",
        "rear_camera_avg_price = rear_camera_avg_price.sort_values(ascending=False)\n",
        "rear_camera_avg_price"
      ]
    },
    {
      "cell_type": "code",
      "execution_count": 60,
      "metadata": {
        "colab": {
          "base_uri": "https://localhost:8080/",
          "height": 564
        },
        "id": "3E8Bj4gAe2lz",
        "outputId": "acbfc6ff-bddc-45cd-b057-0270ba318dca"
      },
      "outputs": [
        {
          "data": {
            "image/png": "[encoded data removed]",
            "text/plain": [
              "<Figure size 800x600 with 1 Axes>"
            ]
          },
          "metadata": {},
          "output_type": "display_data"
        }
      ],
      "source": [
        "fig4 = plt.figure(figsize=(8,6))\n",
        "\n",
        "ax4 = fig3.add_subplot(111)\n",
        "plt.bar(rear_camera_avg_price.index, rear_camera_avg_price, label=rear_camera_avg_price.index)\n",
        "plt.title('Average price by rear camera')\n",
        "plt.xlabel('Rear camera')\n",
        "plt.ylabel('Price')\n",
        "plt.show()"
      ]
    },
    {
      "cell_type": "markdown",
      "metadata": {
        "id": "wx6CU14tg5_v"
      },
      "source": [
        "As we can see there is an increasing trend in the plot."
      ]
    },
    {
      "cell_type": "code",
      "execution_count": 61,
      "metadata": {
        "colab": {
          "base_uri": "https://localhost:8080/"
        },
        "id": "aAmA76SSe-sH",
        "outputId": "f9fa57f9-0096-4cac-9793-0444e70d6f44"
      },
      "outputs": [
        {
          "data": {
            "text/plain": [
              "front camera\n",
              "40     96999.000000\n",
              "12     91715.666667\n",
              "10     82999.000000\n",
              "60     52499.000000\n",
              "32     36397.345455\n",
              "20     26661.047619\n",
              "100    25378.000000\n",
              "44     24465.000000\n",
              "108    22683.727273\n",
              "64     20605.391304\n",
              "16     19934.624000\n",
              "50     18910.777778\n",
              "2      16402.500000\n",
              "25     15999.000000\n",
              "13     15979.475410\n",
              "8      15901.724771\n",
              "48     15046.642857\n",
              "5      11604.157895\n",
              "Name: price, dtype: float64"
            ]
          },
          "execution_count": 61,
          "metadata": {},
          "output_type": "execute_result"
        }
      ],
      "source": [
        "front_camera_avg_price = train_data[['front camera', 'price']]\n",
        "\n",
        "front_camera_avg_price = front_camera_avg_price.groupby(['front camera']).mean()['price']\n",
        "front_camera_avg_price = front_camera_avg_price.sort_values(ascending=False)\n",
        "front_camera_avg_price"
      ]
    },
    {
      "cell_type": "code",
      "execution_count": 62,
      "metadata": {
        "colab": {
          "base_uri": "https://localhost:8080/",
          "height": 564
        },
        "id": "rZLUS_XQgrnG",
        "outputId": "d1b5b06e-e4d9-473c-ae18-f5658f5cea3d"
      },
      "outputs": [
        {
          "data": {
            "image/png": "[encoded data removed]",
            "text/plain": [
              "<Figure size 800x600 with 1 Axes>"
            ]
          },
          "metadata": {},
          "output_type": "display_data"
        }
      ],
      "source": [
        "fig5 = plt.figure(figsize=(8,6))\n",
        "\n",
        "ax5 = fig3.add_subplot(111)\n",
        "plt.bar(front_camera_avg_price.index, front_camera_avg_price, label=front_camera_avg_price.index)\n",
        "plt.title('Average price by front camera')\n",
        "plt.xlabel('Front camera')\n",
        "plt.ylabel('Price')\n",
        "plt.show()"
      ]
    },
    {
      "cell_type": "code",
      "execution_count": 63,
      "metadata": {
        "id": "_sbJ2uCv2gkO"
      },
      "outputs": [],
      "source": [
        "train_data.drop(['battery'], axis=1, inplace=True)"
      ]
    },
    {
      "cell_type": "code",
      "execution_count": 64,
      "metadata": {
        "colab": {
          "base_uri": "https://localhost:8080/",
          "height": 206
        },
        "id": "YItYpUKh2NXU",
        "outputId": "bb67aa45-4aa5-4693-e451-dd9e189b16ee"
      },
      "outputs": [
        {
          "data": {
            "text/html": [
              "<div>\n",
              "<style scoped>\n",
              "    .dataframe tbody tr th:only-of-type {\n",
              "        vertical-align: middle;\n",
              "    }\n",
              "\n",
              "    .dataframe tbody tr th {\n",
              "        vertical-align: top;\n",
              "    }\n",
              "\n",
              "    .dataframe thead th {\n",
              "        text-align: right;\n",
              "    }\n",
              "</style>\n",
              "<table border=\"1\" class=\"dataframe\">\n",
              "  <thead>\n",
              "    <tr style=\"text-align: right;\">\n",
              "      <th></th>\n",
              "      <th>brand</th>\n",
              "      <th>model</th>\n",
              "      <th>ram</th>\n",
              "      <th>storage</th>\n",
              "      <th>display size</th>\n",
              "      <th>display type</th>\n",
              "      <th>rear camera</th>\n",
              "      <th>front camera</th>\n",
              "      <th>price</th>\n",
              "    </tr>\n",
              "  </thead>\n",
              "  <tbody>\n",
              "    <tr>\n",
              "      <th>0</th>\n",
              "      <td>realme</td>\n",
              "      <td>c53</td>\n",
              "      <td>6</td>\n",
              "      <td>64</td>\n",
              "      <td>6.74</td>\n",
              "      <td>HD</td>\n",
              "      <td>108</td>\n",
              "      <td>8</td>\n",
              "      <td>10999</td>\n",
              "    </tr>\n",
              "    <tr>\n",
              "      <th>2</th>\n",
              "      <td>vivo</td>\n",
              "      <td>t2x 5g</td>\n",
              "      <td>8</td>\n",
              "      <td>128</td>\n",
              "      <td>6.58</td>\n",
              "      <td>Full HD</td>\n",
              "      <td>50</td>\n",
              "      <td>8</td>\n",
              "      <td>15999</td>\n",
              "    </tr>\n",
              "    <tr>\n",
              "      <th>3</th>\n",
              "      <td>vivo</td>\n",
              "      <td>t2x 5g</td>\n",
              "      <td>6</td>\n",
              "      <td>128</td>\n",
              "      <td>6.58</td>\n",
              "      <td>Full HD</td>\n",
              "      <td>50</td>\n",
              "      <td>8</td>\n",
              "      <td>13999</td>\n",
              "    </tr>\n",
              "    <tr>\n",
              "      <th>7</th>\n",
              "      <td>vivo</td>\n",
              "      <td>t2x 5g</td>\n",
              "      <td>4</td>\n",
              "      <td>128</td>\n",
              "      <td>6.58</td>\n",
              "      <td>Full HD</td>\n",
              "      <td>50</td>\n",
              "      <td>8</td>\n",
              "      <td>12999</td>\n",
              "    </tr>\n",
              "    <tr>\n",
              "      <th>10</th>\n",
              "      <td>realme</td>\n",
              "      <td>11x 5g</td>\n",
              "      <td>6</td>\n",
              "      <td>128</td>\n",
              "      <td>6.72</td>\n",
              "      <td>Full HD</td>\n",
              "      <td>64</td>\n",
              "      <td>8</td>\n",
              "      <td>14999</td>\n",
              "    </tr>\n",
              "  </tbody>\n",
              "</table>\n",
              "</div>"
            ],
            "text/plain": [
              "     brand    model  ram  storage  display size display type  rear camera  \\\n",
              "0   realme     c53     6       64          6.74           HD          108   \n",
              "2     vivo  t2x 5g     8      128          6.58      Full HD           50   \n",
              "3     vivo  t2x 5g     6      128          6.58      Full HD           50   \n",
              "7     vivo  t2x 5g     4      128          6.58      Full HD           50   \n",
              "10  realme  11x 5g     6      128          6.72      Full HD           64   \n",
              "\n",
              "    front camera  price  \n",
              "0              8  10999  \n",
              "2              8  15999  \n",
              "3              8  13999  \n",
              "7              8  12999  \n",
              "10             8  14999  "
            ]
          },
          "execution_count": 64,
          "metadata": {},
          "output_type": "execute_result"
        }
      ],
      "source": [
        "train_data.head()"
      ]
    },
    {
      "cell_type": "markdown",
      "metadata": {
        "id": "pMje_cAJhB7C"
      },
      "source": [
        "No definite relation between front camera and Average price of the mobile."
      ]
    },
    {
      "cell_type": "code",
      "execution_count": 65,
      "metadata": {
        "id": "BnryU6ZtuyvG"
      },
      "outputs": [],
      "source": [
        "train_data.to_csv('flip_data_cleaned.csv')"
      ]
    },
    {
      "cell_type": "markdown",
      "metadata": {
        "id": "rNVpTGiB0cn8"
      },
      "source": [
        "#*Summary*\n",
        "\n",
        "*   Features like brand, ram, storage, display type has strong and direct relationship with the price of the mobile.\n",
        "*   Though camera migh not have the direct relation, but when combined with other features they can add value to overall model.\n",
        "*   We removed battery feature as most of the mobiles come with 5000 or close to 5000 battery capacity\n",
        "\n",
        "\n",
        "\n"
      ]
    },
    {
      "cell_type": "code",
      "execution_count": null,
      "metadata": {
        "id": "o4W27ZBrjTbo"
      },
      "outputs": [],
      "source": []
    }
  ],
  "metadata": {
    "colab": {
      "provenance": []
    },
    "kernelspec": {
      "display_name": "Python 3",
      "name": "python3"
    },
    "language_info": {
      "codemirror_mode": {
        "name": "ipython",
        "version": 3
      },
      "file_extension": ".py",
      "mimetype": "text/x-python",
      "name": "python",
      "nbconvert_exporter": "python",
      "pygments_lexer": "ipython3",
      "version": "3.11.4"
    }
  },
  "nbformat": 4,
  "nbformat_minor": 0
}
